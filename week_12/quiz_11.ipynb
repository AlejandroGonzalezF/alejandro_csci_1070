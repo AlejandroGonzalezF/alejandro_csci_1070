{
 "cells": [
  {
   "cell_type": "code",
   "execution_count": 10,
   "metadata": {},
   "outputs": [
    {
     "name": "stdout",
     "output_type": "stream",
     "text": [
      "['a', 'b']\n"
     ]
    }
   ],
   "source": [
    "def filter(values):\n",
    "    return [x for x in Input if isinstance(x,str)]\n",
    "\n",
    "Input = [1,2,'a','b',7.6]\n",
    "output = filter(Input)\n",
    "print(output)"
   ]
  },
  {
   "cell_type": "code",
   "execution_count": 12,
   "metadata": {},
   "outputs": [
    {
     "name": "stdout",
     "output_type": "stream",
     "text": [
      "Collecting typing\n",
      "  Downloading typing-3.7.4.3.tar.gz (78 kB)\n",
      "  Installing build dependencies: started\n",
      "  Installing build dependencies: finished with status 'done'\n",
      "  Getting requirements to build wheel: started\n",
      "  Getting requirements to build wheel: finished with status 'done'\n",
      "  Preparing metadata (pyproject.toml): started\n",
      "  Preparing metadata (pyproject.toml): finished with status 'done'\n",
      "Building wheels for collected packages: typing\n",
      "  Building wheel for typing (pyproject.toml): started\n",
      "  Building wheel for typing (pyproject.toml): finished with status 'done'\n",
      "  Created wheel for typing: filename=typing-3.7.4.3-py3-none-any.whl size=26326 sha256=697929e028ddb3badd75150fc7be9b523e8ccd6b035ab97050f13e8ea6f4dba5\n",
      "  Stored in directory: c:\\users\\jagz0\\appdata\\local\\pip\\cache\\wheels\\fa\\17\\1f\\332799f975d1b2d7f9b3f33bbccf65031e794717d24432caee\n",
      "Successfully built typing\n",
      "Installing collected packages: typing\n",
      "Successfully installed typing-3.7.4.3\n",
      "Note: you may need to restart the kernel to use updated packages.\n"
     ]
    },
    {
     "name": "stderr",
     "output_type": "stream",
     "text": [
      "\n",
      "[notice] A new release of pip is available: 24.2 -> 24.3.1\n",
      "[notice] To update, run: python.exe -m pip install --upgrade pip\n"
     ]
    }
   ],
   "source": [
    "%pip install typing"
   ]
  },
  {
   "cell_type": "code",
   "execution_count": 14,
   "metadata": {},
   "outputs": [],
   "source": [
    "from typing import Union\n",
    "from typing import List"
   ]
  },
  {
   "cell_type": "code",
   "execution_count": 17,
   "metadata": {},
   "outputs": [
    {
     "name": "stdout",
     "output_type": "stream",
     "text": [
      "['3 buzz', '5 fizz', '6 buzz', '9 buzz', '10 fizz', '12 buzz', '15 fizzbuzz', '18 buzz', '20 fizz', '21 buzz', '24 buzz', '25 fizz', '27 buzz', '30 fizzbuzz']\n"
     ]
    }
   ],
   "source": [
    "def fizzbuzz (n: int = 100) -> List[Union[int,str]]:\n",
    "    #Using Union and List to generate a joint list of all numbers, along with their respective word\n",
    "    result=[]\n",
    "    for i in range(1, n+1):\n",
    "        if i % 3 == 0 and i % 5 == 0: #check if its divisible\n",
    "            result.append(f\"{i} fizzbuzz\") #join the result with the corresponding part\n",
    "        elif i % 5 == 0:\n",
    "            result.append(f\"{i} fizz\")\n",
    "        elif i % 3 == 0:\n",
    "            result.append(f\"{i} buzz\")\n",
    "    \n",
    "    return result\n",
    "\n",
    "input = fizzbuzz(30) #number goes inside parenthesis\n",
    "print(input)"
   ]
  },
  {
   "cell_type": "code",
   "execution_count": null,
   "metadata": {},
   "outputs": [],
   "source": []
  }
 ],
 "metadata": {
  "kernelspec": {
   "display_name": "Python 3",
   "language": "python",
   "name": "python3"
  },
  "language_info": {
   "codemirror_mode": {
    "name": "ipython",
    "version": 3
   },
   "file_extension": ".py",
   "mimetype": "text/x-python",
   "name": "python",
   "nbconvert_exporter": "python",
   "pygments_lexer": "ipython3",
   "version": "3.9.9"
  }
 },
 "nbformat": 4,
 "nbformat_minor": 2
}
