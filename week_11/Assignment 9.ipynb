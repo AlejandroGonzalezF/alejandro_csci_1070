{
 "cells": [
  {
   "cell_type": "code",
   "execution_count": 125,
   "metadata": {},
   "outputs": [
    {
     "data": {
      "text/html": [
       "<div>\n",
       "<style scoped>\n",
       "    .dataframe tbody tr th:only-of-type {\n",
       "        vertical-align: middle;\n",
       "    }\n",
       "\n",
       "    .dataframe tbody tr th {\n",
       "        vertical-align: top;\n",
       "    }\n",
       "\n",
       "    .dataframe thead th {\n",
       "        text-align: right;\n",
       "    }\n",
       "</style>\n",
       "<table border=\"1\" class=\"dataframe\">\n",
       "  <thead>\n",
       "    <tr style=\"text-align: right;\">\n",
       "      <th></th>\n",
       "      <th>Ind_ID</th>\n",
       "      <th>GENDER</th>\n",
       "      <th>Car_Owner</th>\n",
       "      <th>Propert_Owner</th>\n",
       "      <th>CHILDREN</th>\n",
       "      <th>Annual_income</th>\n",
       "      <th>Type_Income</th>\n",
       "      <th>EDUCATION</th>\n",
       "      <th>Marital_status</th>\n",
       "      <th>Housing_type</th>\n",
       "      <th>Birthday_count</th>\n",
       "      <th>Employed_days</th>\n",
       "      <th>Mobile_phone</th>\n",
       "      <th>Work_Phone</th>\n",
       "      <th>Phone</th>\n",
       "      <th>EMAIL_ID</th>\n",
       "      <th>Type_Occupation</th>\n",
       "      <th>Family_Members</th>\n",
       "    </tr>\n",
       "  </thead>\n",
       "  <tbody>\n",
       "    <tr>\n",
       "      <th>0</th>\n",
       "      <td>5008827</td>\n",
       "      <td>M</td>\n",
       "      <td>Y</td>\n",
       "      <td>Y</td>\n",
       "      <td>0</td>\n",
       "      <td>180000.0</td>\n",
       "      <td>Pensioner</td>\n",
       "      <td>Higher education</td>\n",
       "      <td>Married</td>\n",
       "      <td>House / apartment</td>\n",
       "      <td>-18772.0</td>\n",
       "      <td>365243</td>\n",
       "      <td>1</td>\n",
       "      <td>0</td>\n",
       "      <td>0</td>\n",
       "      <td>0</td>\n",
       "      <td>NaN</td>\n",
       "      <td>2</td>\n",
       "    </tr>\n",
       "    <tr>\n",
       "      <th>1</th>\n",
       "      <td>5009744</td>\n",
       "      <td>F</td>\n",
       "      <td>Y</td>\n",
       "      <td>N</td>\n",
       "      <td>0</td>\n",
       "      <td>315000.0</td>\n",
       "      <td>Commercial associate</td>\n",
       "      <td>Higher education</td>\n",
       "      <td>Married</td>\n",
       "      <td>House / apartment</td>\n",
       "      <td>-13557.0</td>\n",
       "      <td>-586</td>\n",
       "      <td>1</td>\n",
       "      <td>1</td>\n",
       "      <td>1</td>\n",
       "      <td>0</td>\n",
       "      <td>NaN</td>\n",
       "      <td>2</td>\n",
       "    </tr>\n",
       "    <tr>\n",
       "      <th>2</th>\n",
       "      <td>5009746</td>\n",
       "      <td>F</td>\n",
       "      <td>Y</td>\n",
       "      <td>N</td>\n",
       "      <td>0</td>\n",
       "      <td>315000.0</td>\n",
       "      <td>Commercial associate</td>\n",
       "      <td>Higher education</td>\n",
       "      <td>Married</td>\n",
       "      <td>House / apartment</td>\n",
       "      <td>NaN</td>\n",
       "      <td>-586</td>\n",
       "      <td>1</td>\n",
       "      <td>1</td>\n",
       "      <td>1</td>\n",
       "      <td>0</td>\n",
       "      <td>NaN</td>\n",
       "      <td>2</td>\n",
       "    </tr>\n",
       "    <tr>\n",
       "      <th>3</th>\n",
       "      <td>5009749</td>\n",
       "      <td>F</td>\n",
       "      <td>Y</td>\n",
       "      <td>N</td>\n",
       "      <td>0</td>\n",
       "      <td>NaN</td>\n",
       "      <td>Commercial associate</td>\n",
       "      <td>Higher education</td>\n",
       "      <td>Married</td>\n",
       "      <td>House / apartment</td>\n",
       "      <td>-13557.0</td>\n",
       "      <td>-586</td>\n",
       "      <td>1</td>\n",
       "      <td>1</td>\n",
       "      <td>1</td>\n",
       "      <td>0</td>\n",
       "      <td>NaN</td>\n",
       "      <td>2</td>\n",
       "    </tr>\n",
       "    <tr>\n",
       "      <th>4</th>\n",
       "      <td>5009752</td>\n",
       "      <td>F</td>\n",
       "      <td>Y</td>\n",
       "      <td>N</td>\n",
       "      <td>0</td>\n",
       "      <td>315000.0</td>\n",
       "      <td>Commercial associate</td>\n",
       "      <td>Higher education</td>\n",
       "      <td>Married</td>\n",
       "      <td>House / apartment</td>\n",
       "      <td>-13557.0</td>\n",
       "      <td>-586</td>\n",
       "      <td>1</td>\n",
       "      <td>1</td>\n",
       "      <td>1</td>\n",
       "      <td>0</td>\n",
       "      <td>NaN</td>\n",
       "      <td>2</td>\n",
       "    </tr>\n",
       "  </tbody>\n",
       "</table>\n",
       "</div>"
      ],
      "text/plain": [
       "    Ind_ID GENDER Car_Owner Propert_Owner  CHILDREN  Annual_income  \\\n",
       "0  5008827      M         Y             Y         0       180000.0   \n",
       "1  5009744      F         Y             N         0       315000.0   \n",
       "2  5009746      F         Y             N         0       315000.0   \n",
       "3  5009749      F         Y             N         0            NaN   \n",
       "4  5009752      F         Y             N         0       315000.0   \n",
       "\n",
       "            Type_Income         EDUCATION Marital_status       Housing_type  \\\n",
       "0             Pensioner  Higher education        Married  House / apartment   \n",
       "1  Commercial associate  Higher education        Married  House / apartment   \n",
       "2  Commercial associate  Higher education        Married  House / apartment   \n",
       "3  Commercial associate  Higher education        Married  House / apartment   \n",
       "4  Commercial associate  Higher education        Married  House / apartment   \n",
       "\n",
       "   Birthday_count  Employed_days  Mobile_phone  Work_Phone  Phone  EMAIL_ID  \\\n",
       "0        -18772.0         365243             1           0      0         0   \n",
       "1        -13557.0           -586             1           1      1         0   \n",
       "2             NaN           -586             1           1      1         0   \n",
       "3        -13557.0           -586             1           1      1         0   \n",
       "4        -13557.0           -586             1           1      1         0   \n",
       "\n",
       "  Type_Occupation  Family_Members  \n",
       "0             NaN               2  \n",
       "1             NaN               2  \n",
       "2             NaN               2  \n",
       "3             NaN               2  \n",
       "4             NaN               2  "
      ]
     },
     "execution_count": 125,
     "metadata": {},
     "output_type": "execute_result"
    }
   ],
   "source": [
    "import pandas as pd \n",
    "import matplotlib.pyplot as plt\n",
    "from sklearn.preprocessing import LabelEncoder\n",
    "from sklearn.preprocessing import OneHotEncoder\n",
    "from sklearn.impute import SimpleImputer\n",
    "from sklearn.model_selection import train_test_split\n",
    "from sklearn.preprocessing import StandardScaler\n",
    "from sklearn.linear_model import LinearRegression\n",
    "from sklearn.metrics import mean_squared_error\n",
    "from sklearn.neighbors import KNeighborsRegressor\n",
    "from sklearn.metrics import mean_absolute_error\n",
    "from sklearn.linear_model import LogisticRegression\n",
    "from sklearn.metrics import accuracy_score\n",
    "from sklearn.metrics import roc_curve, roc_auc_score\n",
    "from sklearn.svm import SVC\n",
    "\n",
    "\n",
    "df = pd.read_csv('Credit_card.csv')\n",
    "df.head()"
   ]
  },
  {
   "cell_type": "code",
   "execution_count": 126,
   "metadata": {},
   "outputs": [
    {
     "data": {
      "text/html": [
       "<div>\n",
       "<style scoped>\n",
       "    .dataframe tbody tr th:only-of-type {\n",
       "        vertical-align: middle;\n",
       "    }\n",
       "\n",
       "    .dataframe tbody tr th {\n",
       "        vertical-align: top;\n",
       "    }\n",
       "\n",
       "    .dataframe thead th {\n",
       "        text-align: right;\n",
       "    }\n",
       "</style>\n",
       "<table border=\"1\" class=\"dataframe\">\n",
       "  <thead>\n",
       "    <tr style=\"text-align: right;\">\n",
       "      <th></th>\n",
       "      <th>ind_id</th>\n",
       "      <th>gender</th>\n",
       "      <th>car_owner</th>\n",
       "      <th>propert_owner</th>\n",
       "      <th>children</th>\n",
       "      <th>annual_income</th>\n",
       "      <th>type_income</th>\n",
       "      <th>education</th>\n",
       "      <th>marital_status</th>\n",
       "      <th>housing_type</th>\n",
       "      <th>birthday_count</th>\n",
       "      <th>employed_days</th>\n",
       "      <th>mobile_phone</th>\n",
       "      <th>work_phone</th>\n",
       "      <th>phone</th>\n",
       "      <th>email_id</th>\n",
       "      <th>type_occupation</th>\n",
       "      <th>family_members</th>\n",
       "    </tr>\n",
       "  </thead>\n",
       "  <tbody>\n",
       "    <tr>\n",
       "      <th>0</th>\n",
       "      <td>5008827</td>\n",
       "      <td>1</td>\n",
       "      <td>1</td>\n",
       "      <td>1</td>\n",
       "      <td>0</td>\n",
       "      <td>180000.0</td>\n",
       "      <td>1</td>\n",
       "      <td>1</td>\n",
       "      <td>1</td>\n",
       "      <td>1</td>\n",
       "      <td>-18772.0</td>\n",
       "      <td>365243</td>\n",
       "      <td>1</td>\n",
       "      <td>0</td>\n",
       "      <td>0</td>\n",
       "      <td>0</td>\n",
       "      <td>18</td>\n",
       "      <td>2</td>\n",
       "    </tr>\n",
       "    <tr>\n",
       "      <th>1</th>\n",
       "      <td>5009744</td>\n",
       "      <td>0</td>\n",
       "      <td>1</td>\n",
       "      <td>0</td>\n",
       "      <td>0</td>\n",
       "      <td>315000.0</td>\n",
       "      <td>0</td>\n",
       "      <td>1</td>\n",
       "      <td>1</td>\n",
       "      <td>1</td>\n",
       "      <td>-13557.0</td>\n",
       "      <td>-586</td>\n",
       "      <td>1</td>\n",
       "      <td>1</td>\n",
       "      <td>1</td>\n",
       "      <td>0</td>\n",
       "      <td>18</td>\n",
       "      <td>2</td>\n",
       "    </tr>\n",
       "    <tr>\n",
       "      <th>2</th>\n",
       "      <td>5009746</td>\n",
       "      <td>0</td>\n",
       "      <td>1</td>\n",
       "      <td>0</td>\n",
       "      <td>0</td>\n",
       "      <td>315000.0</td>\n",
       "      <td>0</td>\n",
       "      <td>1</td>\n",
       "      <td>1</td>\n",
       "      <td>1</td>\n",
       "      <td>-15661.5</td>\n",
       "      <td>-586</td>\n",
       "      <td>1</td>\n",
       "      <td>1</td>\n",
       "      <td>1</td>\n",
       "      <td>0</td>\n",
       "      <td>18</td>\n",
       "      <td>2</td>\n",
       "    </tr>\n",
       "    <tr>\n",
       "      <th>3</th>\n",
       "      <td>5009749</td>\n",
       "      <td>0</td>\n",
       "      <td>1</td>\n",
       "      <td>0</td>\n",
       "      <td>0</td>\n",
       "      <td>166500.0</td>\n",
       "      <td>0</td>\n",
       "      <td>1</td>\n",
       "      <td>1</td>\n",
       "      <td>1</td>\n",
       "      <td>-13557.0</td>\n",
       "      <td>-586</td>\n",
       "      <td>1</td>\n",
       "      <td>1</td>\n",
       "      <td>1</td>\n",
       "      <td>0</td>\n",
       "      <td>18</td>\n",
       "      <td>2</td>\n",
       "    </tr>\n",
       "    <tr>\n",
       "      <th>4</th>\n",
       "      <td>5009752</td>\n",
       "      <td>0</td>\n",
       "      <td>1</td>\n",
       "      <td>0</td>\n",
       "      <td>0</td>\n",
       "      <td>315000.0</td>\n",
       "      <td>0</td>\n",
       "      <td>1</td>\n",
       "      <td>1</td>\n",
       "      <td>1</td>\n",
       "      <td>-13557.0</td>\n",
       "      <td>-586</td>\n",
       "      <td>1</td>\n",
       "      <td>1</td>\n",
       "      <td>1</td>\n",
       "      <td>0</td>\n",
       "      <td>18</td>\n",
       "      <td>2</td>\n",
       "    </tr>\n",
       "  </tbody>\n",
       "</table>\n",
       "</div>"
      ],
      "text/plain": [
       "    ind_id  gender  car_owner  propert_owner  children  annual_income  \\\n",
       "0  5008827       1          1              1         0       180000.0   \n",
       "1  5009744       0          1              0         0       315000.0   \n",
       "2  5009746       0          1              0         0       315000.0   \n",
       "3  5009749       0          1              0         0       166500.0   \n",
       "4  5009752       0          1              0         0       315000.0   \n",
       "\n",
       "   type_income  education  marital_status  housing_type  birthday_count  \\\n",
       "0            1          1               1             1        -18772.0   \n",
       "1            0          1               1             1        -13557.0   \n",
       "2            0          1               1             1        -15661.5   \n",
       "3            0          1               1             1        -13557.0   \n",
       "4            0          1               1             1        -13557.0   \n",
       "\n",
       "   employed_days  mobile_phone  work_phone  phone  email_id  type_occupation  \\\n",
       "0         365243             1           0      0         0               18   \n",
       "1           -586             1           1      1         0               18   \n",
       "2           -586             1           1      1         0               18   \n",
       "3           -586             1           1      1         0               18   \n",
       "4           -586             1           1      1         0               18   \n",
       "\n",
       "   family_members  \n",
       "0               2  \n",
       "1               2  \n",
       "2               2  \n",
       "3               2  \n",
       "4               2  "
      ]
     },
     "execution_count": 126,
     "metadata": {},
     "output_type": "execute_result"
    }
   ],
   "source": [
    "object_columns = [\"GENDER\", \"Car_Owner\", \"Propert_Owner\", \"EDUCATION\", \"Marital_status\",\n",
    "                  \"Housing_type\", \"Type_Occupation\"]\n",
    "\n",
    "#NEW\n",
    "# Converts all data in the object columns into string type \n",
    "for col in object_columns:\n",
    "    df[col] = LabelEncoder().fit_transform(df[col].astype(str))\n",
    "\n",
    "impute = SimpleImputer(strategy=\"median\")\n",
    "df[['Annual_income','Birthday_count']] = impute.fit_transform(df[['Annual_income','Birthday_count']])\n",
    "\n",
    "label_encode = LabelEncoder()\n",
    "df['Type_Income']=label_encode.fit_transform(df['Type_Income'])\n",
    "\n",
    "#NEW\n",
    "# Removes NAN values and replaces with mean for all\n",
    "def na_values_clean(df):\n",
    "    for col in df.columns:\n",
    "        if df[col].dtype == 'float64' or df[col].dtype == 'int64':\n",
    "            df[col].fillna(df[col].mean(),inplace=True)\n",
    "        else:\n",
    "            df[col].fillna('Unavailable',inplace=True)\n",
    "\n",
    "encode = OneHotEncoder(drop='first', sparse_output=False)\n",
    "encoded_data = encode.fit_transform(df[object_columns])\n",
    "\n",
    "df_encoded = pd.DataFrame(encoded_data, columns=encode.get_feature_names_out(object_columns))\n",
    "df_new = pd.concat([df.drop(object_columns, axis=1), df_encoded], axis=1)\n",
    "\n",
    "df.columns = df.columns.str.lower()\n",
    "df_new.columns\n",
    "\n",
    "\n",
    "\n",
    "\n",
    "\n",
    "\n",
    "df.head()"
   ]
  },
  {
   "cell_type": "code",
   "execution_count": 127,
   "metadata": {},
   "outputs": [
    {
     "name": "stdout",
     "output_type": "stream",
     "text": [
      "<class 'pandas.core.frame.DataFrame'>\n",
      "RangeIndex: 1548 entries, 0 to 1547\n",
      "Data columns (total 18 columns):\n",
      " #   Column           Non-Null Count  Dtype  \n",
      "---  ------           --------------  -----  \n",
      " 0   ind_id           1548 non-null   int64  \n",
      " 1   gender           1548 non-null   int64  \n",
      " 2   car_owner        1548 non-null   int64  \n",
      " 3   propert_owner    1548 non-null   int64  \n",
      " 4   children         1548 non-null   int64  \n",
      " 5   annual_income    1548 non-null   float64\n",
      " 6   type_income      1548 non-null   int64  \n",
      " 7   education        1548 non-null   int64  \n",
      " 8   marital_status   1548 non-null   int64  \n",
      " 9   housing_type     1548 non-null   int64  \n",
      " 10  birthday_count   1548 non-null   float64\n",
      " 11  employed_days    1548 non-null   int64  \n",
      " 12  mobile_phone     1548 non-null   int64  \n",
      " 13  work_phone       1548 non-null   int64  \n",
      " 14  phone            1548 non-null   int64  \n",
      " 15  email_id         1548 non-null   int64  \n",
      " 16  type_occupation  1548 non-null   int64  \n",
      " 17  family_members   1548 non-null   int64  \n",
      "dtypes: float64(2), int64(16)\n",
      "memory usage: 217.8 KB\n"
     ]
    }
   ],
   "source": [
    "df.info()"
   ]
  },
  {
   "cell_type": "code",
   "execution_count": 128,
   "metadata": {},
   "outputs": [
    {
     "name": "stdout",
     "output_type": "stream",
     "text": [
      "Index(['Ind_ID', 'CHILDREN', 'Annual_income', 'Type_Income', 'Birthday_count',\n",
      "       'Employed_days', 'Mobile_phone', 'Work_Phone', 'Phone', 'EMAIL_ID',\n",
      "       'Family_Members', 'GENDER_1', 'GENDER_2', 'Car_Owner_1',\n",
      "       'Propert_Owner_1', 'EDUCATION_1', 'EDUCATION_2', 'EDUCATION_3',\n",
      "       'EDUCATION_4', 'Marital_status_1', 'Marital_status_2',\n",
      "       'Marital_status_3', 'Marital_status_4', 'Housing_type_1',\n",
      "       'Housing_type_2', 'Housing_type_3', 'Housing_type_4', 'Housing_type_5',\n",
      "       'Type_Occupation_1', 'Type_Occupation_2', 'Type_Occupation_3',\n",
      "       'Type_Occupation_4', 'Type_Occupation_5', 'Type_Occupation_6',\n",
      "       'Type_Occupation_7', 'Type_Occupation_8', 'Type_Occupation_9',\n",
      "       'Type_Occupation_10', 'Type_Occupation_11', 'Type_Occupation_12',\n",
      "       'Type_Occupation_13', 'Type_Occupation_14', 'Type_Occupation_15',\n",
      "       'Type_Occupation_16', 'Type_Occupation_17', 'Type_Occupation_18'],\n",
      "      dtype='object')\n"
     ]
    }
   ],
   "source": [
    "print(df_new.columns)"
   ]
  },
  {
   "cell_type": "code",
   "execution_count": 129,
   "metadata": {},
   "outputs": [],
   "source": [
    "X = df_new.drop(columns=['Car_Owner_1'])\n",
    "y = df_new['Car_Owner_1']\n",
    "\n",
    "X_train, X_test, y_train, y_test = train_test_split(X,y,test_size=0.2, random_state=42)"
   ]
  },
  {
   "cell_type": "code",
   "execution_count": 130,
   "metadata": {},
   "outputs": [],
   "source": [
    "majority_class = X_train[y_train == 0]\n",
    "minority_class = X_train[y_train == 1]"
   ]
  },
  {
   "cell_type": "code",
   "execution_count": 131,
   "metadata": {},
   "outputs": [
    {
     "data": {
      "text/plain": [
       "Car_Owner_1\n",
       "0.0    750\n",
       "1.0    750\n",
       "Name: count, dtype: int64"
      ]
     },
     "execution_count": 131,
     "metadata": {},
     "output_type": "execute_result"
    }
   ],
   "source": [
    "minority_class_ovsp = minority_class.sample(len(majority_class), replace=True, random_state=42)\n",
    "X_train_spd = pd.concat([majority_class, minority_class_ovsp])\n",
    "y_train_spd = pd.concat([y_train[y_train == 0], y_train[y_train == 1].sample(len(majority_class),\n",
    "                                                                             replace=True, random_state = 42)])\n",
    "\n",
    "y_train_spd.value_counts()"
   ]
  },
  {
   "cell_type": "markdown",
   "metadata": {},
   "source": [
    "I decided to use oversampling in the Car_Owner row to balance the classes and create new examples, so I could later compare them with other, non-categorical rows. The results of KNN and Logistic Regression were more accurate after oversampling"
   ]
  },
  {
   "cell_type": "markdown",
   "metadata": {},
   "source": [
    "KNN"
   ]
  },
  {
   "cell_type": "code",
   "execution_count": 132,
   "metadata": {},
   "outputs": [],
   "source": [
    "scaler = StandardScaler()\n",
    "X_scaler = scaler.fit_transform(df_new.drop('Car_Owner_1', axis=1))\n",
    "y_knn = df_new['Car_Owner_1']\n",
    "\n",
    "X_train_knn, X_test_knn, y_train_knn, y_test_knn = train_test_split(X_scaler, y_knn, test_size=0.2, random_state=42)"
   ]
  },
  {
   "cell_type": "code",
   "execution_count": 133,
   "metadata": {},
   "outputs": [
    {
     "data": {
      "text/plain": [
       "(1, np.float64(0.32903225806451614))"
      ]
     },
     "execution_count": 133,
     "metadata": {},
     "output_type": "execute_result"
    }
   ],
   "source": [
    "def optimal_k (X_train, y_train, X_test, y_test):\n",
    "    b_k = 1\n",
    "    b_score = float('inf')\n",
    "    for k in range (1, 21):\n",
    "        knn = KNeighborsRegressor(n_neighbors=k)\n",
    "        knn.fit(X_train, y_train)\n",
    "        y_pred_knn = knn.predict(X_test)\n",
    "        score = mean_absolute_error(y_test, y_pred_knn)\n",
    "        if score < b_score:\n",
    "            b_score = score\n",
    "            b_k = k\n",
    "    return b_k, b_score\n",
    "\n",
    "b_k, b_mae = optimal_k(X_train_knn, y_train_knn, X_test_knn, y_test_knn)\n",
    "\n",
    "knn_model = KNeighborsRegressor(n_neighbors=b_k)\n",
    "knn_model.fit(X_train_knn, y_train_knn)\n",
    "y_pred_knn = knn_model.predict(X_test_knn)\n",
    "knn_mae = mean_absolute_error(y_test_knn, y_pred_knn)\n",
    "\n",
    "b_k, knn_mae"
   ]
  },
  {
   "cell_type": "code",
   "execution_count": 134,
   "metadata": {},
   "outputs": [
    {
     "data": {
      "text/plain": [
       "(1, np.float64(0.32903225806451614))"
      ]
     },
     "execution_count": 134,
     "metadata": {},
     "output_type": "execute_result"
    }
   ],
   "source": [
    "b_k_norm, b_mae = optimal_k(X_train_normalized, y_train_normalized, X_test_normalized, y_test_normalized)\n",
    "\n",
    "b_k_norm, b_mae "
   ]
  },
  {
   "cell_type": "markdown",
   "metadata": {},
   "source": [
    "LOGISTIC REGRESSION"
   ]
  },
  {
   "cell_type": "code",
   "execution_count": 135,
   "metadata": {},
   "outputs": [
    {
     "data": {
      "text/plain": [
       "0.6967741935483871"
      ]
     },
     "execution_count": 135,
     "metadata": {},
     "output_type": "execute_result"
    }
   ],
   "source": [
    "X_log_reg = df_new.drop(['Annual_income','Car_Owner_1'], axis=1)\n",
    "y_log_reg = df_new['Car_Owner_1']\n",
    "\n",
    "X_train_log, X_test_log, y_train_log, y_test_log = train_test_split(X_log_reg, y_log_reg, test_size=0.2, random_state=42)\n",
    "\n",
    "logistic_reg = LogisticRegression(max_iter=1000)\n",
    "logistic_reg.fit(X_train_log, y_train_log)\n",
    "\n",
    "y_pred_log = logistic_reg.predict(X_test_log)\n",
    "logistic_accuracy = accuracy_score(y_test_log, y_pred_log)\n",
    "\n",
    "logistic_accuracy"
   ]
  },
  {
   "cell_type": "markdown",
   "metadata": {},
   "source": [
    "ROC Curve"
   ]
  },
  {
   "cell_type": "code",
   "execution_count": 139,
   "metadata": {},
   "outputs": [
    {
     "data": {
      "text/plain": [
       "Text(0, 0.5, 'TPR')"
      ]
     },
     "execution_count": 139,
     "metadata": {},
     "output_type": "execute_result"
    },
    {
     "data": {
      "image/png": "[encoded data removed]",
      "text/plain": [
       "<Figure size 640x480 with 1 Axes>"
      ]
     },
     "metadata": {},
     "output_type": "display_data"
    }
   ],
   "source": [
    "model= LogisticRegression()\n",
    "model.fit(X_train, y_train)\n",
    "\n",
    "y_probability = model.predict_proba(X_test)[:, 1]\n",
    "fpr, tpr, threshold = roc_curve(y_test, y_probability)\n",
    "\n",
    "plt.figure()\n",
    "plt.plot(fpr, tpr, color='green', label='ROC Curve')\n",
    "plt.plot([0, 1], [0, 1], color='black', linestyle='--')\n",
    "plt.xlabel('FPR')\n",
    "plt.ylabel('TPR')"
   ]
  },
  {
   "cell_type": "code",
   "execution_count": 142,
   "metadata": {},
   "outputs": [
    {
     "name": "stdout",
     "output_type": "stream",
     "text": [
      "AUC: 0.717292089249493\n"
     ]
    }
   ],
   "source": [
    "# AUC Score\n",
    "auc = roc_auc_score(y_test, y_probability)\n",
    "\n",
    "print(f\"AUC: {auc}\")"
   ]
  },
  {
   "cell_type": "code",
   "execution_count": 145,
   "metadata": {},
   "outputs": [
    {
     "name": "stdout",
     "output_type": "stream",
     "text": [
      "Accuracy Score: 0.6645161290322581\n"
     ]
    }
   ],
   "source": [
    "classifier = SVC(kernel='linear', probability=True, random_state=42)\n",
    "classifier.fit(X_train, y_train)\n",
    "model_prediction = model.predict(X_test)\n",
    "accuracy = accuracy_score(y_test, model_prediction)\n",
    "\n",
    "print(f\"Accuracy Score: {accuracy}\")\n"
   ]
  },
  {
   "cell_type": "markdown",
   "metadata": {},
   "source": [
    "The SVM model did not perform as well, and it had a 66% of accuracy, \n",
    "which is worse than the logistic regression (69%) and the Area Under the Curve (71%)."
   ]
  },
  {
   "cell_type": "markdown",
   "metadata": {},
   "source": [
    "Outlier Detection is a technique that identifies data points that differ from the rest within a dataset. It is important to assess outliers to prevent skew when analysing data. Some techniques of Outlier Detection are Z-score, SVM, Clustering and IQR."
   ]
  }
 ],
 "metadata": {
  "kernelspec": {
   "display_name": "Python 3",
   "language": "python",
   "name": "python3"
  },
  "language_info": {
   "codemirror_mode": {
    "name": "ipython",
    "version": 3
   },
   "file_extension": ".py",
   "mimetype": "text/x-python",
   "name": "python",
   "nbconvert_exporter": "python",
   "pygments_lexer": "ipython3",
   "version": "3.9.9"
  }
 },
 "nbformat": 4,
 "nbformat_minor": 2
}
