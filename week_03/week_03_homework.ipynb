{
 "cells": [
  {
   "cell_type": "markdown",
   "metadata": {},
   "source": [
    "### Homework 3 Numpy Arrays and Pandas\n",
    "\n",
    "1. Open `cars.csv` in jupyter and look at the data. (Double click `cars.csv` to open in a new tab).\n",
    "2. We are converting each **column** into a numpy array.\n",
    "3. Notice we have text, integer and float data. \n",
    "4. Take care not to overwrite your starter code."
   ]
  },
  {
   "cell_type": "code",
   "execution_count": 3,
   "metadata": {},
   "outputs": [],
   "source": [
    "#Starter code. Do NOT modify this cell\n",
    "import pandas as pd\n",
    "import numpy as np\n",
    "\n",
    "# Read in dataset\n",
    "df = pd.read_csv('cars.csv',delimiter=';')\n",
    "\n",
    "# Convert each column to an np.array\n",
    "car = df.Car.to_numpy()\n",
    "mpg = df.MPG.to_numpy()\n",
    "cylinders = df.Cylinders.to_numpy()\n",
    "displacement = df.Displacement.to_numpy()\n",
    "horsepower = df.Horsepower.to_numpy()\n",
    "weight = df.Weight.to_numpy()\n",
    "acceleration = df.Acceleration.to_numpy()\n",
    "model = df.Model.to_numpy()\n",
    "origin = df.Origin.to_numpy()\n",
    "\n",
    "# create an array of headers\n",
    "headers = np.array(['Car', 'MPG', 'Cylinders', 'Displacement', 'Horsepower', 'Weight','Acceleration', 'Model', 'Origin'])\n"
   ]
  },
  {
   "cell_type": "markdown",
   "metadata": {},
   "source": [
    "1. (2 pts) What are the numpy datatypes for the `car`,`mpg`, `horsepower` and `origin` arrays? (Hint: Not `type(car)` and use `print()` to print the numpy type.)"
   ]
  },
  {
   "cell_type": "code",
   "execution_count": 19,
   "metadata": {},
   "outputs": [
    {
     "name": "stdout",
     "output_type": "stream",
     "text": [
      "Data type for car is object\n",
      "Data type for mpg is float64\n",
      "Data type for horsepower is float64\n",
      "Data type for origin is object\n"
     ]
    }
   ],
   "source": [
    "print(f\"Data type for car is {car.dtype}\")\n",
    "print(f\"Data type for mpg is {mpg.dtype}\")\n",
    "print(f\"Data type for horsepower is {horsepower.dtype}\")\n",
    "print(f\"Data type for origin is {origin.dtype}\")"
   ]
  },
  {
   "cell_type": "markdown",
   "metadata": {},
   "source": [
    "2. (1 pt) `numpy` is often imported as `np`. What is this action called? Why might you do this? "
   ]
  },
  {
   "cell_type": "code",
   "execution_count": 13,
   "metadata": {},
   "outputs": [],
   "source": [
    "# np is an alias for numpy. Putting aliases to this kinds of libraries allows for a more standard\n",
    "# way for other developers to read them."
   ]
  },
  {
   "cell_type": "markdown",
   "metadata": {},
   "source": [
    "3. (2 pts) Each of the arrays (cars, mpg, cylinders, etc..) has how many dimensions? Show how to find this using code. "
   ]
  },
  {
   "cell_type": "code",
   "execution_count": 26,
   "metadata": {},
   "outputs": [
    {
     "name": "stdout",
     "output_type": "stream",
     "text": [
      "The array car has 1 dimension(s)\n",
      "The array mpg has 1 dimension(s)\n",
      "The array cylinders has 1 dimension(s)\n",
      "The array displacement has 1 dimension(s)\n",
      "The array weight has 1 dimension(s)\n",
      "The array acceleration has 1 dimension(s)\n",
      "The array model has 1 dimension(s)\n",
      "The array origin has 1 dimension(s)\n"
     ]
    }
   ],
   "source": [
    "print(f\"The array car has {car.ndim} dimension(s)\")\n",
    "print(f\"The array mpg has {mpg.ndim} dimension(s)\")\n",
    "print(f\"The array cylinders has {cylinders.ndim} dimension(s)\")\n",
    "print(f\"The array displacement has {displacement.ndim} dimension(s)\")\n",
    "print(f\"The array weight has {weight.ndim} dimension(s)\")\n",
    "print(f\"The array acceleration has {acceleration.ndim} dimension(s)\")\n",
    "print(f\"The array model has {model.ndim} dimension(s)\")\n",
    "print(f\"The array origin has {origin.ndim} dimension(s)\")"
   ]
  },
  {
   "cell_type": "markdown",
   "metadata": {},
   "source": [
    "4. (3 pts) What is the ___ of `horsepower`?\n",
    "- sum\n",
    "- min\n",
    "- max\n",
    "- median\n",
    "- Optional: mode (May need to google help) (1 pt extra credit)"
   ]
  },
  {
   "cell_type": "code",
   "execution_count": 41,
   "metadata": {},
   "outputs": [
    {
     "name": "stdout",
     "output_type": "stream",
     "text": [
      "The sum of horsepower is: 42033.0\n",
      "The min of horsepower is: 0.0\n",
      "The max of horsepower is: 230.0\n",
      "The median of horsepower is: 93.5\n",
      "The mode of horsepower is: 150.0\n"
     ]
    }
   ],
   "source": [
    "import math\n",
    "import statistics\n",
    "from scipy import stats\n",
    "\n",
    "horsepower_mode = stats.mode(horsepower)\n",
    "\n",
    "print(f\"The sum of horsepower is: {horsepower.sum()}\")\n",
    "print(f\"The min of horsepower is: {horsepower.min()}\")\n",
    "print(f\"The max of horsepower is: {horsepower.max()}\")\n",
    "print(f\"The median of horsepower is: {np.median(horsepower)}\")\n",
    "print(f\"The mode of horsepower is: {horsepower_mode.mode}\")"
   ]
  },
  {
   "cell_type": "markdown",
   "metadata": {},
   "source": [
    "5. (2 pts) Select the last element in each subarray (do this with one operation.)"
   ]
  },
  {
   "cell_type": "code",
   "execution_count": 43,
   "metadata": {},
   "outputs": [
    {
     "name": "stdout",
     "output_type": "stream",
     "text": [
      "[3 6 9]\n"
     ]
    }
   ],
   "source": [
    "select_more = np.array([[1,2,3],\n",
    "                      [4,5,6],\n",
    "                      [7,8,9]])\n",
    "# returns array([3, 6, 9])\n",
    "last = select_more [:,-1]\n",
    "print(last)"
   ]
  },
  {
   "cell_type": "markdown",
   "metadata": {},
   "source": [
    "6. (2 pts) Use the built-in `np.lookfor()` function to search for `'log'`.\n",
    "\n",
    "Use the function you find and apply it to `mpg`."
   ]
  },
  {
   "cell_type": "code",
   "execution_count": 55,
   "metadata": {},
   "outputs": [
    {
     "name": "stdout",
     "output_type": "stream",
     "text": [
      "     *** Found in numpy ***\n",
      "log(x, /, out=None, *, where=True, casting='same_kind', order='K', dtype=None, subok=True[, signature])\n",
      "\n",
      "Natural logarithm, element-wise.\n",
      "\n",
      "The natural logarithm `log` is the inverse of the exponential function,\n",
      "so that `log(exp(x)) = x`. The natural logarithm is logarithm in base\n",
      "`e`.\n",
      "\n",
      "Parameters\n",
      "----------\n",
      "x : array_like\n",
      "    Input value.\n",
      "out : ndarray, None, or tuple of ndarray and None, optional\n",
      "    A location into which the result is stored. If provided, it must have\n",
      "    a shape that the inputs broadcast to. If not provided or None,\n",
      "    a freshly-allocated array is returned. A tuple (possible only as a\n",
      "    keyword argument) must have length equal to the number of outputs.\n",
      "where : array_like, optional\n",
      "    This condition is broadcast over the input. At locations where the\n",
      "    condition is True, the `out` array will be set to the ufunc result.\n",
      "    Elsewhere, the `out` array will retain its original value.\n",
      "    Note that if an uninitialized `out` array is created via the default\n",
      "    ``out=None``, locations within it where the condition is False will\n",
      "    remain uninitialized.\n",
      "**kwargs\n",
      "    For other keyword-only arguments, see the\n",
      "    :ref:`ufunc docs <ufuncs.kwargs>`.\n",
      "\n",
      "Returns\n",
      "-------\n",
      "y : ndarray\n",
      "    The natural logarithm of `x`, element-wise.\n",
      "    This is a scalar if `x` is a scalar.\n",
      "\n",
      "See Also\n",
      "--------\n",
      "log10, log2, log1p, emath.log\n",
      "\n",
      "Notes\n",
      "-----\n",
      "Logarithm is a multivalued function: for each `x` there is an infinite\n",
      "number of `z` such that `exp(z) = x`. The convention is to return the\n",
      "`z` whose imaginary part lies in `(-pi, pi]`.\n",
      "\n",
      "For real-valued input data types, `log` always returns real output. For\n",
      "each value that cannot be expressed as a real number or infinity, it\n",
      "yields ``nan`` and sets the `invalid` floating point error flag.\n",
      "\n",
      "For complex-valued input, `log` is a complex analytical function that\n",
      "has a branch cut `[-inf, 0]` and is continuous from above on it. `log`\n",
      "handles the floating-point negative zero as an infinitesimal negative\n",
      "number, conforming to the C99 standard.\n",
      "\n",
      "In the cases where the input has a negative real part and a very small\n",
      "negative complex part (approaching 0), the result is so close to `-pi`\n",
      "that it evaluates to exactly `-pi`.\n",
      "\n",
      "References\n",
      "----------\n",
      ".. [1] M. Abramowitz and I.A. Stegun, \"Handbook of Mathematical Functions\",\n",
      "       10th printing, 1964, pp. 67.\n",
      "       https://personal.math.ubc.ca/~cbm/aands/page_67.htm\n",
      ".. [2] Wikipedia, \"Logarithm\". https://en.wikipedia.org/wiki/Logarithm\n",
      "\n",
      "Examples\n",
      "--------\n",
      ">>> np.log([1, np.e, np.e**2, 0])\n",
      "array([  0.,   1.,   2., -inf])\n",
      "----------------------------------------------------------------------------\n",
      "\n",
      "     *** Repeat reference found in numpy._core *** \n",
      "     *** Found in numpy.lib.scimath ***\n",
      "Compute the natural logarithm of `x`.\n",
      "\n",
      "Return the \"principal value\" (for a description of this, see `numpy.log`)\n",
      "of :math:`log_e(x)`. For real `x > 0`, this is a real number (``log(0)``\n",
      "returns ``-inf`` and ``log(np.inf)`` returns ``inf``). Otherwise, the\n",
      "complex principle value is returned.\n",
      "\n",
      "Parameters\n",
      "----------\n",
      "x : array_like\n",
      "   The value(s) whose log is (are) required.\n",
      "\n",
      "Returns\n",
      "-------\n",
      "out : ndarray or scalar\n",
      "   The log of the `x` value(s). If `x` was a scalar, so is `out`,\n",
      "   otherwise an array is returned.\n",
      "\n",
      "See Also\n",
      "--------\n",
      "numpy.log\n",
      "\n",
      "Notes\n",
      "-----\n",
      "For a log() that returns ``NAN`` when real `x < 0`, use `numpy.log`\n",
      "(note, however, that otherwise `numpy.log` and this `log` are identical,\n",
      "i.e., both return ``-inf`` for `x = 0`, ``inf`` for `x = inf`, and,\n",
      "notably, the complex principle value if ``x.imag != 0``).\n",
      "\n",
      "Examples\n",
      "--------\n",
      ">>> np.emath.log(np.exp(1))\n",
      "1.0\n",
      "\n",
      "Negative arguments are handled \"correctly\" (recall that\n",
      "``exp(log(x)) == x`` does *not* hold for real ``x < 0``):\n",
      "\n",
      ">>> np.emath.log(-np.exp(1)) == (1 + np.pi * 1j)\n",
      "True\n",
      "----------------------------------------------------------------------------\n",
      "     *** Found in numpy.ma ***\n",
      "log(x, /, out=None, *, where=True, casting='same_kind', order='K', dtype=None, subok=True[, signature])\n",
      "\n",
      "Natural logarithm, element-wise.\n",
      "\n",
      "The natural logarithm `log` is the inverse of the exponential function,\n",
      "so that `log(exp(x)) = x`. The natural logarithm is logarithm in base\n",
      "`e`.\n",
      "\n",
      "Parameters\n",
      "----------\n",
      "x : array_like\n",
      "    Input value.\n",
      "out : ndarray, None, or tuple of ndarray and None, optional\n",
      "    A location into which the result is stored. If provided, it must have\n",
      "    a shape that the inputs broadcast to. If not provided or None,\n",
      "    a freshly-allocated array is returned. A tuple (possible only as a\n",
      "    keyword argument) must have length equal to the number of outputs.\n",
      "where : array_like, optional\n",
      "    This condition is broadcast over the input. At locations where the\n",
      "    condition is True, the `out` array will be set to the ufunc result.\n",
      "    Elsewhere, the `out` array will retain its original value.\n",
      "    Note that if an uninitialized `out` array is created via the default\n",
      "    ``out=None``, locations within it where the condition is False will\n",
      "    remain uninitialized.\n",
      "**kwargs\n",
      "    For other keyword-only arguments, see the\n",
      "    :ref:`ufunc docs <ufuncs.kwargs>`.\n",
      "\n",
      "Returns\n",
      "-------\n",
      "y : ndarray\n",
      "    The natural logarithm of `x`, element-wise.\n",
      "    This is a scalar if `x` is a scalar.\n",
      "\n",
      "See Also\n",
      "--------\n",
      "log10, log2, log1p, emath.log\n",
      "\n",
      "Notes\n",
      "-----\n",
      "Logarithm is a multivalued function: for each `x` there is an infinite\n",
      "number of `z` such that `exp(z) = x`. The convention is to return the\n",
      "`z` whose imaginary part lies in `(-pi, pi]`.\n",
      "\n",
      "For real-valued input data types, `log` always returns real output. For\n",
      "each value that cannot be expressed as a real number or infinity, it\n",
      "yields ``nan`` and sets the `invalid` floating point error flag.\n",
      "\n",
      "For complex-valued input, `log` is a complex analytical function that\n",
      "has a branch cut `[-inf, 0]` and is continuous from above on it. `log`\n",
      "handles the floating-point negative zero as an infinitesimal negative\n",
      "number, conforming to the C99 standard.\n",
      "\n",
      "In the cases where the input has a negative real part and a very small\n",
      "negative complex part (approaching 0), the result is so close to `-pi`\n",
      "that it evaluates to exactly `-pi`.\n",
      "\n",
      "References\n",
      "----------\n",
      ".. [1] M. Abramowitz and I.A. Stegun, \"Handbook of Mathematical Functions\",\n",
      "       10th printing, 1964, pp. 67.\n",
      "       https://personal.math.ubc.ca/~cbm/aands/page_67.htm\n",
      ".. [2] Wikipedia, \"Logarithm\". https://en.wikipedia.org/wiki/Logarithm\n",
      "\n",
      "Examples\n",
      "--------\n",
      ">>> np.log([1, np.e, np.e**2, 0])\n",
      "array([  0.,   1.,   2., -inf])\n",
      "----------------------------------------------------------------------------\n",
      "\n",
      "     *** Repeat reference found in numpy._core._multiarray_umath *** \n",
      "\n",
      "     *** Repeat reference found in numpy._core.multiarray *** \n",
      "\n",
      "     *** Repeat reference found in numpy._core.umath *** \n",
      "\n",
      "     *** Repeat reference found in numpy._core.numeric *** \n",
      "\n",
      "     *** Repeat reference found in numpy.lib._scimath_impl *** \n",
      "\n",
      "     *** Repeat reference found in numpy.ma.core *** \n",
      "     *** Found in math ***\n",
      "log(x, [base=math.e])\n",
      "Return the logarithm of x to the given base.\n",
      "\n",
      "If the base not specified, returns the natural logarithm (base e) of x.\n",
      "----------------------------------------------------------------------------\n",
      "     *** Found in logging ***\n",
      " log(level, msg, *args, **kwargs)\n",
      "\n",
      "Log 'msg % args' with the integer severity 'level' on the root logger. If\n",
      "the logger has no handlers, call basicConfig() to add a console handler\n",
      "with a pre-defined format.\n",
      "----------------------------------------------------------------------------\n",
      "\n",
      "     *** Total of 12 references found. ***\n",
      "[2.89037176 2.7080502  2.89037176 2.77258872 2.83321334 2.7080502\n",
      " 2.63905733 2.63905733 2.63905733 2.7080502        -inf       -inf\n",
      "       -inf       -inf       -inf 2.7080502  2.63905733       -inf\n",
      " 2.7080502  2.63905733 3.17805383 3.09104245 2.89037176 3.04452244\n",
      " 3.29583687 3.25809654 3.21887582 3.17805383 3.21887582 3.25809654\n",
      " 3.04452244 2.30258509 2.30258509 2.39789527 2.19722458 3.29583687\n",
      " 3.33220451 3.21887582 3.21887582       -inf 2.94443898 2.77258872\n",
      " 2.83321334 2.94443898 2.89037176 2.63905733 2.63905733 2.63905733\n",
      " 2.63905733 2.48490665 2.56494936 2.56494936 2.89037176 3.09104245\n",
      " 2.94443898 2.89037176 3.13549422 3.33220451 3.40119738 3.40119738\n",
      " 3.4339872  3.55534806 3.29583687 3.25809654 3.17805383 3.21887582\n",
      " 3.13549422 2.99573227 3.04452244 2.56494936 2.63905733 2.7080502\n",
      " 2.63905733 2.83321334 2.39789527 2.56494936 2.48490665 2.56494936\n",
      " 2.94443898 2.7080502  2.56494936 2.56494936 2.63905733 2.89037176\n",
      " 3.09104245 3.04452244 3.25809654 3.09104245 3.33220451 3.13549422\n",
      " 3.33220451 3.29583687 2.56494936 2.63905733 2.56494936 2.63905733\n",
      " 2.7080502  2.48490665 2.56494936 2.56494936 2.63905733 2.56494936\n",
      " 2.48490665 2.56494936 2.89037176 2.77258872 2.89037176 2.89037176\n",
      " 3.13549422 3.25809654 2.39789527 2.48490665 2.56494936 2.48490665\n",
      " 2.89037176 2.99573227 3.04452244 3.09104245 2.89037176 2.94443898\n",
      " 3.04452244 3.25809654 2.7080502  2.77258872 3.36729583 3.17805383\n",
      " 2.99573227 2.94443898 2.7080502  3.17805383 2.99573227 2.39789527\n",
      " 2.99573227 3.04452244 2.94443898 2.7080502  3.4339872  3.25809654\n",
      " 3.4657359  3.21887582 2.77258872 2.77258872 2.89037176 2.77258872\n",
      " 2.56494936 2.63905733 2.63905733 2.63905733 3.36729583 3.25809654\n",
      " 3.25809654 3.4339872  3.4657359  3.33220451 3.17805383 3.25809654\n",
      " 3.17805383 3.25809654 3.4339872  2.94443898 2.89037176 2.7080502\n",
      " 2.7080502  2.77258872 2.7080502  2.77258872 2.63905733 2.83321334\n",
      " 2.77258872 2.7080502  2.89037176 3.04452244 2.99573227 2.56494936\n",
      " 3.36729583 3.13549422 2.99573227 3.13549422 3.17805383 3.21887582\n",
      " 3.17805383 2.89037176 3.36729583 2.94443898 3.13549422 3.13549422\n",
      " 3.09104245 3.21887582 3.49650756 3.33220451 3.21887582 3.21887582\n",
      " 3.25809654 3.29583687 2.86220088 2.77258872 2.74084002 2.67414865\n",
      " 3.09104245 3.09104245 3.17805383 3.11351531 3.36729583 3.19867312\n",
      " 3.36729583 3.49650756 2.99573227 2.89037176 2.91777073 2.86220088\n",
      " 3.38439026 3.4657359  3.33220451 3.27714473 2.99573227 2.56494936\n",
      " 2.94443898 2.94443898 2.80336038 2.80336038 2.56494936 2.56494936\n",
      " 2.56494936 3.44998755 3.40119738 3.58351894 3.23867845 3.51154544\n",
      " 2.86220088 2.83321334 2.74084002 2.7080502  2.86220088 3.02042489\n",
      " 2.94443898 2.91777073 2.77258872 2.74084002 2.74084002 2.77258872\n",
      " 3.36729583 3.19867312 3.25809654 3.23867845 3.41772668 3.51154544\n",
      " 3.40119738 3.41772668 3.09104245 3.06805294 3.06805294 3.763523\n",
      " 3.58629287 3.49042852 3.67376582 3.58629287 2.99071973 2.96527307\n",
      " 3.0056826  2.95491028 3.02042489 3.0056826  3.22286785 3.02042489\n",
      " 2.96527307 3.02529108 3.03495299 2.92316158 2.89591194 2.95491028\n",
      " 2.87356464 2.89591194 2.86220088 3.40119738 3.314186   3.30321697\n",
      " 3.43075618 3.04927304 3.14415228 3.16968558 3.17387846 3.01062089\n",
      " 2.83321334 3.07269331 2.78501124 3.44998755 3.38439026 3.06805294\n",
      " 2.98568194 3.10458668 3.0056826  3.02529108 2.83321334 2.8678989\n",
      " 2.80336038 2.90142159 2.82731362 2.74084002 2.95491028 2.91777073\n",
      " 3.46260601 3.52929738 3.57515069 3.31054301 3.23474917 3.13549422\n",
      " 3.30321697 3.17387846 3.53222564 3.54095932 3.45946629 3.61899333\n",
      " 3.34638915 3.36037539 3.28840189 3.51154544 3.72569343 3.64021428\n",
      " 3.46885603 3.61630876 3.33220451 3.27336401 3.19047635 2.94968834\n",
      " 3.53514535 3.39450839 3.4436181  3.61091791 3.47196645 3.84160054\n",
      " 3.32862669 3.70868208 3.79098468 3.77045944 3.59456877 3.40119738\n",
      " 3.79773386 3.71113006 3.5204608  3.39450839 3.48737508 3.16547505\n",
      " 3.55534806 3.16124671 3.47815842 3.30321697 3.28091122 3.25037449\n",
      " 3.15700042 3.40119738 3.66612247 3.66356165 3.55820113 3.47506723\n",
      " 3.61091791 3.62966009 3.52929738 3.54673969 3.53805656 3.39785848\n",
      " 3.49650756 3.54095932 3.51749784 3.47815842 3.49347266 3.45315712\n",
      " 3.33576958       -inf 3.42426265 3.23474917 3.18635263 3.10906096\n",
      " 3.28091122 3.0056826  2.8678989  3.33220451 3.29583687 3.52636052\n",
      " 3.4339872  3.36729583 3.29583687 3.17805383 3.13549422 3.58351894\n",
      " 3.61091791 3.4339872  3.63758616 3.58351894 3.58351894 3.58351894\n",
      " 3.52636052 3.63758616 3.4657359  3.63758616 3.21887582 3.63758616\n",
      " 3.25809654 3.09104245 3.4657359  3.58351894 3.29583687 3.29583687\n",
      " 3.78418963 3.4657359  3.33220451 3.4339872 ]\n"
     ]
    },
    {
     "name": "stderr",
     "output_type": "stream",
     "text": [
      "C:\\Users\\jagz0\\AppData\\Local\\Temp\\ipykernel_22760\\3521450202.py:3: RuntimeWarning: divide by zero encountered in log\n",
      "  mpglog = np.log(mpg)\n"
     ]
    }
   ],
   "source": [
    "np.info('log')\n",
    "\n",
    "mpglog = np.log(mpg)\n",
    "print(mpglog)"
   ]
  },
  {
   "cell_type": "markdown",
   "metadata": {},
   "source": [
    "7. (2 pts) Use boolean indexing to create an array of `True/False` using `origin` and the value 'US'."
   ]
  },
  {
   "cell_type": "code",
   "execution_count": 60,
   "metadata": {
    "scrolled": true
   },
   "outputs": [
    {
     "name": "stdout",
     "output_type": "stream",
     "text": [
      "[ True  True  True  True  True  True  True  True  True  True False  True\n",
      "  True  True  True  True  True  True  True  True False  True  True  True\n",
      " False False False False False False  True  True  True  True  True False\n",
      "  True False  True False  True  True  True  True  True  True  True  True\n",
      "  True  True  True  True  True  True  True  True  True False False False\n",
      " False False False  True False  True False  True  True  True  True  True\n",
      "  True  True  True  True  True  True False  True  True  True  True False\n",
      " False False False  True False False  True False  True  True  True  True\n",
      "  True  True  True  True  True  True  True  True  True  True  True  True\n",
      "  True False  True  True  True  True  True False  True False False  True\n",
      "  True False  True  True False False False False  True False False  True\n",
      "  True  True  True  True False  True False  True  True  True  True  True\n",
      "  True  True  True  True False False False False False  True False False\n",
      " False False False  True  True  True  True  True  True  True  True  True\n",
      "  True  True  True  True  True  True False  True  True  True False False\n",
      " False  True False  True False False False False False False False  True\n",
      "  True False  True  True  True  True  True  True  True  True  True  True\n",
      " False False  True  True  True  True False False False  True False  True\n",
      " False False False  True  True  True  True False  True False  True False\n",
      "  True  True  True  True  True  True  True  True  True  True  True  True\n",
      " False  True False  True  True  True False False False False False False\n",
      "  True False False False  True  True  True  True  True  True  True  True\n",
      "  True  True  True  True  True  True  True  True  True  True False False\n",
      "  True False  True  True False False False False False False False  True\n",
      "  True  True  True  True  True  True  True  True  True  True  True  True\n",
      " False False  True  True False  True False  True  True  True False False\n",
      "  True  True  True  True False False  True False  True  True  True  True\n",
      " False False False False False False  True False False False False False\n",
      " False False False False False False False  True False  True  True  True\n",
      "  True  True False  True False False False False False  True  True  True\n",
      " False False False False False False False False False False False  True\n",
      "  True  True  True  True  True  True  True  True  True  True  True False\n",
      " False False  True  True False False False False False False  True  True\n",
      "  True  True False  True  True  True False  True  True  True]\n"
     ]
    }
   ],
   "source": [
    "us_truefalse = origin == \"US\"\n",
    "print(us_truefalse)"
   ]
  },
  {
   "cell_type": "markdown",
   "metadata": {},
   "source": [
    "8. (2 pts) Apply your index (from above) to the `car` array. You should now only see cars that are of US origin. "
   ]
  },
  {
   "cell_type": "code",
   "execution_count": 62,
   "metadata": {},
   "outputs": [
    {
     "name": "stdout",
     "output_type": "stream",
     "text": [
      "['Chevrolet Chevelle Malibu' 'Buick Skylark 320' 'Plymouth Satellite'\n",
      " 'AMC Rebel SST' 'Ford Torino' 'Ford Galaxie 500' 'Chevrolet Impala'\n",
      " 'Plymouth Fury iii' 'Pontiac Catalina' 'AMC Ambassador DPL'\n",
      " 'Chevrolet Chevelle Concours (sw)' 'Ford Torino (sw)'\n",
      " 'Plymouth Satellite (sw)' 'AMC Rebel SST (sw)' 'Dodge Challenger SE'\n",
      " \"Plymouth 'Cuda 340\" 'Ford Mustang Boss 302' 'Chevrolet Monte Carlo'\n",
      " 'Buick Estate Wagon (sw)' 'Plymouth Duster' 'AMC Hornet' 'Ford Maverick'\n",
      " 'AMC Gremlin' 'Ford F250' 'Chevy C20' 'Dodge D200' 'Hi 1200D'\n",
      " 'Chevrolet Vega 2300' 'Ford Pinto' 'AMC Gremlin'\n",
      " 'Plymouth Satellite Custom' 'Chevrolet Chevelle Malibu' 'Ford Torino 500'\n",
      " 'AMC Matador' 'Chevrolet Impala' 'Pontiac Catalina Brougham'\n",
      " 'Ford Galaxie 500' 'Plymouth Fury iii' 'Dodge Monaco (sw)'\n",
      " 'Ford Country Squire (sw)' 'Pontiac Safari (sw)'\n",
      " 'AMC Hornet Sportabout (sw)' 'Chevrolet Vega (sw)' 'Pontiac Firebird'\n",
      " 'Ford Mustang' 'Mercury Capri 2000' 'Plymouth Cricket'\n",
      " 'Dodge Colt Hardtop' 'Chevrolet Vega' 'Ford Pinto Runabout'\n",
      " 'Chevrolet Impala' 'Pontiac Catalina' 'Plymouth Fury III'\n",
      " 'Ford Galaxie 500' 'AMC Ambassador SST' 'Mercury Marquis'\n",
      " 'Buick LeSabre Custom' 'Oldsmobile Delta 88 Royale'\n",
      " 'Chrysler Newport Royal' 'AMC Matador (sw)'\n",
      " 'Chevrolet Chevelle Concours (sw)' 'Ford Gran Torino (sw)'\n",
      " 'Plymouth Satellite Custom (sw)' 'Ford Pinto (sw)' 'Dodge Colt (sw)'\n",
      " 'Buick Century 350' 'AMC Matador' 'Chevrolet Malibu' 'Ford Gran Torino'\n",
      " 'Dodge Coronet Custom' 'Mercury Marquis Brougham'\n",
      " 'Chevrolet Caprice Classic' 'Ford LTD' 'Plymouth Fury Gran Sedan'\n",
      " 'Chrysler New Yorker Brougham' 'Buick Electra 225 Custom'\n",
      " 'AMC Ambassador Brougham' 'Plymouth Valiant' 'Chevrolet Nova Custom'\n",
      " 'AMC Hornet' 'Ford Maverick' 'Plymouth Duster' 'Chevrolet Impala'\n",
      " 'Ford Country' 'Plymouth Custom Suburb' 'Oldsmobile Vista Cruiser'\n",
      " 'AMC Gremlin' 'Chevrolet Vega' 'Ford Pinto' 'Mercury Capri v6'\n",
      " 'Chevrolet Monte Carlo S' 'Pontiac Grand Prix' 'Dodge Dart Custom'\n",
      " 'Oldsmobile Omega' 'Plymouth Duster' 'Ford Maverick' 'AMC Hornet'\n",
      " 'Chevrolet Nova' 'Ford Pinto' 'Chevrolet Vega'\n",
      " 'Chevrolet Chevelle Malibu Classic' 'AMC Matador'\n",
      " 'Plymouth Satellite Sebring' 'Ford Gran Torino'\n",
      " 'Buick Century Luxus (sw)' 'Dodge Coronet Custom (sw)'\n",
      " 'Ford Gran Torino (sw)' 'AMC Matador (sw)' 'Dodge Colt'\n",
      " 'Plymouth Valiant Custom' 'Chevrolet Nova' 'Mercury Monarch'\n",
      " 'Ford Maverick' 'Pontiac Catalina' 'Chevrolet Bel Air'\n",
      " 'Plymouth Grand Fury' 'Ford LTD' 'Buick Century'\n",
      " 'Chevrolete Chevelle Malibu' 'AMC Matador' 'Plymouth Fury'\n",
      " 'Buick Skyhawk' 'Chevrolet Monza 2+2' 'Ford Mustang II' 'Ford Pinto'\n",
      " 'AMC Gremlin' 'Pontiac Astro' 'Ford Pinto' 'AMC Pacer' 'Capri ii'\n",
      " 'Dodge Colt' 'Chevrolet Chevelle Malibu Classic' 'Dodge Coronet Brougham'\n",
      " 'AMC Matador' 'Ford Gran Torino' 'Plymouth Valiant' 'Chevrolet Nova'\n",
      " 'Ford Maverick' 'AMC Hornet' 'Chevrolet Chevette' 'Chevrolet Woody'\n",
      " 'Dodge Aspen SE' 'Ford Grenada ghia' 'Pontiac Ventura SJ' 'AMC Pacer d/l'\n",
      " 'Ford Pinto' 'Plymouth Volare Premier v8' 'Cadillac Seville'\n",
      " 'Chevrolet C10' 'Ford F108' 'Dodge D100' 'Buick Opel Isuzu Deluxe'\n",
      " 'Plymouth Arrow GS' 'Chevrolet Caprice Classic'\n",
      " 'Oldsmobile Cutlass Supreme' 'Dodge Monaco Brougham'\n",
      " 'Mercury Cougar Brougham' 'Chevrolet Concours' 'Buick Skylark'\n",
      " 'Plymouth Volare Custom' 'Ford Grenada' 'Pontiac Grand Prix LJ'\n",
      " 'Chevrolet Monte Carlo Landau' 'Chrysler Cordoba' 'Ford Thunderbird'\n",
      " 'Pontiac Sunbird Coupe' 'Ford Mustang II 2+2' 'Chevrolet Chevette'\n",
      " 'Dodge Colt m/m' 'Ford Fiesta' 'Oldsmobile Cutlass Salon Brougham'\n",
      " 'Dodge Diplomat' 'Mercury Monarch ghia' 'Pontiac Phoenix LJ'\n",
      " 'Chevrolet Malibu' 'Ford Fairmont (auto)' 'Ford Fairmont (man)'\n",
      " 'Plymouth Volare' 'AMC Concord' 'Buick Century Special' 'Mercury Zephyr'\n",
      " 'Dodge Aspen' 'AMC Concord d/l' 'Chevrolet Monte Carlo Landau'\n",
      " 'Buick Regal Sport Coupe (turbo)' 'Ford Futura' 'Dodge Magnum XE'\n",
      " 'Chevrolet Chevette' 'Dodge Omni' 'Plymouth Sapporo'\n",
      " 'Oldsmobile Starfire SX' 'Pontiac Lemans V6' 'Mercury Zephyr 6'\n",
      " 'Ford Fairmont 4' 'AMC Concord DL 6' 'Dodge Aspen 6'\n",
      " 'Chevrolet Caprice Classic' 'Ford LTD Landau' 'Mercury Grand Marquis'\n",
      " 'Dodge St. Regis' 'Buick Estate Wagon (sw)' 'Ford Country Squire (sw)'\n",
      " 'Chevrolet Malibu Classic (sw)' 'Chrysler Lebaron Town @ Country (sw)'\n",
      " 'Dodge Colt Hatchback Custom' 'AMC Spirit DL' 'Cadillac Eldorado'\n",
      " 'Oldsmobile Cutlass Salon Brougham' 'Plymouth Horizon'\n",
      " 'Plymouth Horizon TC3' 'Buick Skylark Limited' 'Chevrolet Citation'\n",
      " 'Oldsmobile Omega Brougham' 'Pontiac Phoenix' 'Chevrolet Chevette'\n",
      " 'Chevrolet Citation' 'Ford Fairmont' 'AMC Concord' 'Dodge Aspen'\n",
      " 'Dodge Colt' 'Ford Mustang Cobra' 'Plymouth Reliant' 'Buick Skylark'\n",
      " 'Dodge Aries Wagon (sw)' 'Chevrolet Citation' 'Plymouth Reliant'\n",
      " 'Plymouth Champ' 'Plymouth Horizon 4' 'Ford Escort 4W' 'Ford Escort 2H'\n",
      " 'Buick Century' 'Oldsmobile Cutlass LS' 'Ford Grenada gl'\n",
      " 'Chrysler Lebaron Salon' 'Chevrolet Cavalier' 'Chevrolet Cavalier Wagon'\n",
      " 'Chevrolet Cavalier 2-door' 'Pontiac J2000 SE Hatchback' 'Dodge Aries SE'\n",
      " 'Pontiac Phoenix' 'Ford Fairmont Futura' 'AMC Concord DL'\n",
      " 'Plymouth Horizon Miser' 'Mercury Lynx l' 'Buick Century Limited'\n",
      " 'Oldsmobile Cutlass Ciera (diesel)' 'Chrysler Lebaron Medallion'\n",
      " 'Ford Grenada l' 'Dodge Charger 2.2' 'Chevrolet Camaro' 'Ford Mustang GL'\n",
      " 'Dodge Rampage' 'Ford Ranger' 'Chevy S-10']\n"
     ]
    }
   ],
   "source": [
    "us_car = car[us_truefalse]\n",
    "print(us_car)"
   ]
  },
  {
   "cell_type": "markdown",
   "metadata": {},
   "source": [
    "### Use numpy or pandas to answer the following questions."
   ]
  },
  {
   "cell_type": "markdown",
   "metadata": {},
   "source": [
    "9. (3 pts) What is the average horsepower for `Europe` cars? (Hint: create a boolean index of 'US' apply it to horsepower and perform the calculation.)"
   ]
  },
  {
   "cell_type": "code",
   "execution_count": 7,
   "metadata": {},
   "outputs": [
    {
     "name": "stdout",
     "output_type": "stream",
     "text": [
      "The average horsepower for Europe cars is: 103.5295566502463\n"
     ]
    }
   ],
   "source": [
    "europe = origin == \"Europe\"\n",
    "europe_horsepower = horsepower[europe]\n",
    "av_europe_hp = europe_horsepower.mean()\n",
    "\n",
    "print(f\"The average horsepower for Europe cars is: {horsepower.mean()}\")"
   ]
  },
  {
   "cell_type": "markdown",
   "metadata": {},
   "source": [
    "10. (3 pts) On average are Japanese cars more fuel-efficient than US cars? Show the code that you used to determine this.  "
   ]
  },
  {
   "cell_type": "code",
   "execution_count": 14,
   "metadata": {},
   "outputs": [
    {
     "name": "stdout",
     "output_type": "stream",
     "text": [
      "The average miles per gallon for Japanese cars is: 30.450632911392404\n",
      "The average miles per gallon for US cars is: 19.688188976377955\n",
      "On average, Japanese cars are more fuel-efficient than US cars\n"
     ]
    }
   ],
   "source": [
    "japan = origin == \"Japan\"\n",
    "us = origin == \"US\"\n",
    "\n",
    "jp_mpg = mpg[japan]\n",
    "us_mpg = mpg[us]\n",
    "\n",
    "av_jp_mpg = jp_mpg.mean()\n",
    "av_us_mpg = us_mpg.mean()\n",
    "\n",
    "print(f\"The average miles per gallon for Japanese cars is: {av_jp_mpg.mean()}\")\n",
    "print(f\"The average miles per gallon for US cars is: {av_us_mpg.mean()}\")\n",
    "\n",
    "if av_jp_mpg > av_us_mpg:\n",
    "    print(\"On average, Japanese cars are more fuel-efficient than US cars\")\n",
    "else:\n",
    "    print(\"On average, US cars are more fuel efficient than Japanese cars\")"
   ]
  },
  {
   "cell_type": "markdown",
   "metadata": {},
   "source": [
    "11. (3 pts) What is the correlation coefficient of `mpg` and `weight`? What is a correlation coefficient? What does the result indicate about the relationship between mpg and weight? "
   ]
  },
  {
   "cell_type": "code",
   "execution_count": 18,
   "metadata": {},
   "outputs": [
    {
     "name": "stdout",
     "output_type": "stream",
     "text": [
      "Correlation coeficient is = -0.7875099405047027\n"
     ]
    }
   ],
   "source": [
    "correlation_arrays = np.corrcoef(mpg,weight)\n",
    "correlation_coef = correlation_arrays [0,1]\n",
    "\n",
    "print(f\"Correlation coeficient is = {correlation_coef}\")\n",
    "\n",
    "# Correlation coefficient is a measure used in statistics to indicate the strength and direction of a linear -\n",
    "# relationship between two values.\n",
    "# A negative coefficient correlation means that the two variables move in opposite directions.\n",
    "# In this case, the coefficient indicates a strong, negative relationship between mpg and weight\n",
    "#This means that as a car's weight increases, its mpg goes down."
   ]
  },
  {
   "cell_type": "markdown",
   "metadata": {},
   "source": [
    "Extra credit: (3 pts) Create a new pandas dataframe that has the average mpg, weight, and horsepower per country of origin"
   ]
  },
  {
   "cell_type": "code",
   "execution_count": 20,
   "metadata": {},
   "outputs": [
    {
     "data": {
      "text/html": [
       "<div>\n",
       "<style scoped>\n",
       "    .dataframe tbody tr th:only-of-type {\n",
       "        vertical-align: middle;\n",
       "    }\n",
       "\n",
       "    .dataframe tbody tr th {\n",
       "        vertical-align: top;\n",
       "    }\n",
       "\n",
       "    .dataframe thead th {\n",
       "        text-align: right;\n",
       "    }\n",
       "</style>\n",
       "<table border=\"1\" class=\"dataframe\">\n",
       "  <thead>\n",
       "    <tr style=\"text-align: right;\">\n",
       "      <th></th>\n",
       "      <th>origin</th>\n",
       "      <th>mpg_mean</th>\n",
       "      <th>weight_mean</th>\n",
       "      <th>horsepower_mean</th>\n",
       "    </tr>\n",
       "  </thead>\n",
       "  <tbody>\n",
       "    <tr>\n",
       "      <th>0</th>\n",
       "      <td>Europe</td>\n",
       "      <td>26.745205</td>\n",
       "      <td>2431.493151</td>\n",
       "      <td>78.780822</td>\n",
       "    </tr>\n",
       "    <tr>\n",
       "      <th>1</th>\n",
       "      <td>Japan</td>\n",
       "      <td>30.450633</td>\n",
       "      <td>2221.227848</td>\n",
       "      <td>79.835443</td>\n",
       "    </tr>\n",
       "    <tr>\n",
       "      <th>2</th>\n",
       "      <td>US</td>\n",
       "      <td>19.688189</td>\n",
       "      <td>3372.700787</td>\n",
       "      <td>118.011811</td>\n",
       "    </tr>\n",
       "  </tbody>\n",
       "</table>\n",
       "</div>"
      ],
      "text/plain": [
       "   origin   mpg_mean  weight_mean  horsepower_mean\n",
       "0  Europe  26.745205  2431.493151        78.780822\n",
       "1   Japan  30.450633  2221.227848        79.835443\n",
       "2      US  19.688189  3372.700787       118.011811"
      ]
     },
     "execution_count": 20,
     "metadata": {},
     "output_type": "execute_result"
    }
   ],
   "source": [
    "new_df = df.groupby(\"Origin\").agg({\n",
    "    \"MPG\" : \"mean\",\n",
    "    \"Weight\" : \"mean\",\n",
    "    \"Horsepower\" : \"mean\"\n",
    "}).reset_index()\n",
    "\n",
    "new_df.columns = [\"origin\",\"mpg_mean\",\"weight_mean\",\"horsepower_mean\"]\n",
    "\n",
    "new_df"
   ]
  },
  {
   "cell_type": "code",
   "execution_count": null,
   "metadata": {},
   "outputs": [],
   "source": []
  }
 ],
 "metadata": {
  "kernelspec": {
   "display_name": "Python 3 (ipykernel)",
   "language": "python",
   "name": "python3"
  },
  "language_info": {
   "codemirror_mode": {
    "name": "ipython",
    "version": 3
   },
   "file_extension": ".py",
   "mimetype": "text/x-python",
   "name": "python",
   "nbconvert_exporter": "python",
   "pygments_lexer": "ipython3",
   "version": "3.9.9"
  }
 },
 "nbformat": 4,
 "nbformat_minor": 4
}
