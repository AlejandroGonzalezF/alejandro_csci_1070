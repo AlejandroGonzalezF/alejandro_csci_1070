{
 "cells": [
  {
   "cell_type": "markdown",
   "id": "b41701f5-74ed-4727-acbb-2e9fa3b25d2e",
   "metadata": {},
   "source": [
    "Local - only available to other code in this scope. A function, for example, only has access to the names defined in that function or passed into the function.\n",
    "\n",
    "Enclosing - only exists for nested functions. Inner nests can have access to the names in outer nests\n",
    "\n",
    "Global - available to all your code and can pass through modules, classes, etc.\n",
    "\n",
    "Built in - all names that are created by Python when you run a script"
   ]
  },
  {
   "cell_type": "code",
   "execution_count": 4,
   "id": "0c9bf3a7-2bf4-401b-ab5a-1eadc0c23bfd",
   "metadata": {},
   "outputs": [
    {
     "name": "stdout",
     "output_type": "stream",
     "text": [
      "0\n"
     ]
    }
   ],
   "source": [
    "class a_sample_class:\n",
    "    #default/basic constructor\n",
    "    def __init__(self):\n",
    "        self.var = 0\n",
    "\n",
    "    #an instance method for printing\n",
    "    def print_vars(self):\n",
    "        print(self.var)\n",
    "\n",
    "#create instance of class\n",
    "obj = a_sample_class()\n",
    "\n",
    "#call instance method to get value for var\n",
    "obj.print_vars()"
   ]
  },
  {
   "cell_type": "markdown",
   "id": "c01f750d-6e4b-4555-965f-54d4bbc4c149",
   "metadata": {},
   "source": [
    "# Constructors\n",
    "\n",
    "Constructors get created when you create an instance of a class.\n",
    "\n",
    "__init__(__ is \"dunner\")\n",
    "\n",
    "SELF is a default variable that contains the memory address of the code that we are currently working in."
   ]
  },
  {
   "cell_type": "code",
   "execution_count": 6,
   "id": "bbdb35c7-97ad-4127-97bd-6edc58866abc",
   "metadata": {},
   "outputs": [
    {
     "name": "stdout",
     "output_type": "stream",
     "text": [
      "17\n",
      "5\n",
      "5\n"
     ]
    }
   ],
   "source": [
    "class a_sample_class:\n",
    "    class_attr = 5\n",
    "\n",
    "    def __init__(self, one, two):\n",
    "        #instance attribute\n",
    "        self.first = one\n",
    "        self.second = two\n",
    "\n",
    "#object is instance of class\n",
    "obj = a_sample_class(17,42)\n",
    "\n",
    "#instance attribute as property of object\n",
    "print(obj.first)\n",
    "\n",
    "#class attribute as property of object\n",
    "print(obj.class_attr)\n",
    "\n",
    "#instance attribute as property of class\n",
    "print(a_sample_class.first)\n",
    "\n",
    "#class attribute as property of class\n",
    "print(a_sample_class.class_attr)"
   ]
  },
  {
   "cell_type": "markdown",
   "id": "9928e2fe-85b4-4967-8b8c-9b33d574120b",
   "metadata": {},
   "source": [
    "#instance attribute  and class attributes\n",
    "\n",
    "2 scopes\n",
    "\n",
    "instance attribute = variable that belongs to a specific instance of instantation.\n",
    "Defined inside the constructor (init). Can access from the scope of an object (local)\n",
    "\n",
    "Class attribute = type of variable that belongsto the class itself. Similar to static attributes in Java (not exactly the same). It is both "
   ]
  },
  {
   "cell_type": "code",
   "execution_count": 7,
   "id": "665232db-44c9-4e49-a38f-1a5b742bd251",
   "metadata": {},
   "outputs": [
    {
     "name": "stdout",
     "output_type": "stream",
     "text": [
      "Help on a_sample_class in module __main__ object:\n",
      "\n",
      "class a_sample_class(builtins.object)\n",
      " |  a_sample_class(one, two)\n",
      " |  \n",
      " |  Methods defined here:\n",
      " |  \n",
      " |  __init__(self, one, two)\n",
      " |      Initialize self.  See help(type(self)) for accurate signature.\n",
      " |  \n",
      " |  ----------------------------------------------------------------------\n",
      " |  Data descriptors defined here:\n",
      " |  \n",
      " |  __dict__\n",
      " |      dictionary for instance variables (if defined)\n",
      " |  \n",
      " |  __weakref__\n",
      " |      list of weak references to the object (if defined)\n",
      " |  \n",
      " |  ----------------------------------------------------------------------\n",
      " |  Data and other attributes defined here:\n",
      " |  \n",
      " |  class_attr = 5\n",
      "\n"
     ]
    }
   ],
   "source": [
    "help (obj)"
   ]
  },
  {
   "cell_type": "code",
   "execution_count": 8,
   "id": "432eb6f8-2d71-41ed-bfe3-9a3e598c0b8d",
   "metadata": {},
   "outputs": [
    {
     "data": {
      "text/plain": [
       "['In',\n",
       " 'Out',\n",
       " '_',\n",
       " '__',\n",
       " '___',\n",
       " '__builtin__',\n",
       " '__builtins__',\n",
       " '__doc__',\n",
       " '__loader__',\n",
       " '__name__',\n",
       " '__package__',\n",
       " '__session__',\n",
       " '__spec__',\n",
       " '_dh',\n",
       " '_i',\n",
       " '_i1',\n",
       " '_i2',\n",
       " '_i3',\n",
       " '_i4',\n",
       " '_i5',\n",
       " '_i6',\n",
       " '_i7',\n",
       " '_i8',\n",
       " '_ih',\n",
       " '_ii',\n",
       " '_iii',\n",
       " '_oh',\n",
       " 'a_sample_class',\n",
       " 'exit',\n",
       " 'get_ipython',\n",
       " 'obj',\n",
       " 'open',\n",
       " 'quit']"
      ]
     },
     "execution_count": 8,
     "metadata": {},
     "output_type": "execute_result"
    }
   ],
   "source": [
    "#dir = directory of names in a current, local scope\n",
    "dir()"
   ]
  },
  {
   "cell_type": "code",
   "execution_count": 9,
   "id": "bf5eec6a-300a-4789-ad84-9d11fcb7f649",
   "metadata": {},
   "outputs": [
    {
     "data": {
      "text/plain": [
       "{'__name__': '__main__',\n",
       " '__doc__': 'Automatically created module for IPython interactive environment',\n",
       " '__package__': None,\n",
       " '__loader__': None,\n",
       " '__spec__': None,\n",
       " '__builtin__': <module 'builtins' (built-in)>,\n",
       " '__builtins__': <module 'builtins' (built-in)>,\n",
       " '_ih': ['',\n",
       "  'class a_sample_class:\\n    #default/basic constructor\\n    def__init__(self):\\n    self.var = 0\\n\\n    #an instance method for printing\\n    def print_vars(self):\\n        print(self.var)\\n\\n#create instance of class\\nobj = a_sample_class()\\n\\n#call instance method to get value for var\\nobj.print_vars()',\n",
       "  'class a_sample_class:\\n    #default/basic constructor\\n    def__init__(self)\\n    self.var = 0\\n\\n    #an instance method for printing\\n    def print_vars(self):\\n        print(self.var)\\n\\n#create instance of class\\nobj = a_sample_class()\\n\\n#call instance method to get value for var\\nobj.print_vars()',\n",
       "  'class a_sample_class:\\n    #default/basic constructor\\n    def __init__(self):\\n    self.var = 0\\n\\n    #an instance method for printing\\n    def print_vars(self):\\n        print(self.var)\\n\\n#create instance of class\\nobj = a_sample_class()\\n\\n#call instance method to get value for var\\nobj.print_vars()',\n",
       "  'class a_sample_class:\\n    #default/basic constructor\\n    def __init__(self):\\n        self.var = 0\\n\\n    #an instance method for printing\\n    def print_vars(self):\\n        print(self.var)\\n\\n#create instance of class\\nobj = a_sample_class()\\n\\n#call instance method to get value for var\\nobj.print_vars()',\n",
       "  'class a_sample_class:\\n    class_attr = 5\\n\\n    def __init__(self, one, two):\\n        #instance attribute\\n        self.first = one\\n        self.second = two\\n\\n#object is instance of class\\nobj = a_sample_class(17,42)\\n\\n#instance attribute as property of object\\nprint(obj.first)\\n\\n#class attribute as property of object\\nprint(obj.class_attr)\\n\\n#instance attribute as property of class\\nprint(a_sample_class.first)\\n\\n#class attribute as property of class\\nprint(a_sample_class.class_attr)',\n",
       "  'class a_sample_class:\\n    class_attr = 5\\n\\n    def __init__(self, one, two):\\n        #instance attribute\\n        self.first = one\\n        self.second = two\\n\\n#object is instance of class\\nobj = a_sample_class(17,42)\\n\\n#instance attribute as property of object\\nprint(obj.first)\\n\\n#class attribute as property of object\\nprint(obj.class_attr)\\n\\n#instance attribute as property of class\\n#print(a_sample_class.first)\\n\\n#class attribute as property of class\\nprint(a_sample_class.class_attr)',\n",
       "  'help (obj)',\n",
       "  '#dir = directory of names in a current, local scope\\ndir()',\n",
       "  'globals()'],\n",
       " '_oh': {8: ['In',\n",
       "   'Out',\n",
       "   '_',\n",
       "   '__',\n",
       "   '___',\n",
       "   '__builtin__',\n",
       "   '__builtins__',\n",
       "   '__doc__',\n",
       "   '__loader__',\n",
       "   '__name__',\n",
       "   '__package__',\n",
       "   '__session__',\n",
       "   '__spec__',\n",
       "   '_dh',\n",
       "   '_i',\n",
       "   '_i1',\n",
       "   '_i2',\n",
       "   '_i3',\n",
       "   '_i4',\n",
       "   '_i5',\n",
       "   '_i6',\n",
       "   '_i7',\n",
       "   '_i8',\n",
       "   '_ih',\n",
       "   '_ii',\n",
       "   '_iii',\n",
       "   '_oh',\n",
       "   'a_sample_class',\n",
       "   'exit',\n",
       "   'get_ipython',\n",
       "   'obj',\n",
       "   'open',\n",
       "   'quit']},\n",
       " '_dh': [WindowsPath('C:/Users/jagz0/Documents/csci_1070_course_materials/alex_csci_1070')],\n",
       " 'In': ['',\n",
       "  'class a_sample_class:\\n    #default/basic constructor\\n    def__init__(self):\\n    self.var = 0\\n\\n    #an instance method for printing\\n    def print_vars(self):\\n        print(self.var)\\n\\n#create instance of class\\nobj = a_sample_class()\\n\\n#call instance method to get value for var\\nobj.print_vars()',\n",
       "  'class a_sample_class:\\n    #default/basic constructor\\n    def__init__(self)\\n    self.var = 0\\n\\n    #an instance method for printing\\n    def print_vars(self):\\n        print(self.var)\\n\\n#create instance of class\\nobj = a_sample_class()\\n\\n#call instance method to get value for var\\nobj.print_vars()',\n",
       "  'class a_sample_class:\\n    #default/basic constructor\\n    def __init__(self):\\n    self.var = 0\\n\\n    #an instance method for printing\\n    def print_vars(self):\\n        print(self.var)\\n\\n#create instance of class\\nobj = a_sample_class()\\n\\n#call instance method to get value for var\\nobj.print_vars()',\n",
       "  'class a_sample_class:\\n    #default/basic constructor\\n    def __init__(self):\\n        self.var = 0\\n\\n    #an instance method for printing\\n    def print_vars(self):\\n        print(self.var)\\n\\n#create instance of class\\nobj = a_sample_class()\\n\\n#call instance method to get value for var\\nobj.print_vars()',\n",
       "  'class a_sample_class:\\n    class_attr = 5\\n\\n    def __init__(self, one, two):\\n        #instance attribute\\n        self.first = one\\n        self.second = two\\n\\n#object is instance of class\\nobj = a_sample_class(17,42)\\n\\n#instance attribute as property of object\\nprint(obj.first)\\n\\n#class attribute as property of object\\nprint(obj.class_attr)\\n\\n#instance attribute as property of class\\nprint(a_sample_class.first)\\n\\n#class attribute as property of class\\nprint(a_sample_class.class_attr)',\n",
       "  'class a_sample_class:\\n    class_attr = 5\\n\\n    def __init__(self, one, two):\\n        #instance attribute\\n        self.first = one\\n        self.second = two\\n\\n#object is instance of class\\nobj = a_sample_class(17,42)\\n\\n#instance attribute as property of object\\nprint(obj.first)\\n\\n#class attribute as property of object\\nprint(obj.class_attr)\\n\\n#instance attribute as property of class\\n#print(a_sample_class.first)\\n\\n#class attribute as property of class\\nprint(a_sample_class.class_attr)',\n",
       "  'help (obj)',\n",
       "  '#dir = directory of names in a current, local scope\\ndir()',\n",
       "  'globals()'],\n",
       " 'Out': {8: ['In',\n",
       "   'Out',\n",
       "   '_',\n",
       "   '__',\n",
       "   '___',\n",
       "   '__builtin__',\n",
       "   '__builtins__',\n",
       "   '__doc__',\n",
       "   '__loader__',\n",
       "   '__name__',\n",
       "   '__package__',\n",
       "   '__session__',\n",
       "   '__spec__',\n",
       "   '_dh',\n",
       "   '_i',\n",
       "   '_i1',\n",
       "   '_i2',\n",
       "   '_i3',\n",
       "   '_i4',\n",
       "   '_i5',\n",
       "   '_i6',\n",
       "   '_i7',\n",
       "   '_i8',\n",
       "   '_ih',\n",
       "   '_ii',\n",
       "   '_iii',\n",
       "   '_oh',\n",
       "   'a_sample_class',\n",
       "   'exit',\n",
       "   'get_ipython',\n",
       "   'obj',\n",
       "   'open',\n",
       "   'quit']},\n",
       " 'get_ipython': <bound method InteractiveShell.get_ipython of <ipykernel.zmqshell.ZMQInteractiveShell object at 0x000001D164C29100>>,\n",
       " 'exit': <IPython.core.autocall.ZMQExitAutocall at 0x1d164c29bb0>,\n",
       " 'quit': <IPython.core.autocall.ZMQExitAutocall at 0x1d164c29bb0>,\n",
       " 'open': <function io.open(file, mode='r', buffering=-1, encoding=None, errors=None, newline=None, closefd=True, opener=None)>,\n",
       " '_': ['In',\n",
       "  'Out',\n",
       "  '_',\n",
       "  '__',\n",
       "  '___',\n",
       "  '__builtin__',\n",
       "  '__builtins__',\n",
       "  '__doc__',\n",
       "  '__loader__',\n",
       "  '__name__',\n",
       "  '__package__',\n",
       "  '__session__',\n",
       "  '__spec__',\n",
       "  '_dh',\n",
       "  '_i',\n",
       "  '_i1',\n",
       "  '_i2',\n",
       "  '_i3',\n",
       "  '_i4',\n",
       "  '_i5',\n",
       "  '_i6',\n",
       "  '_i7',\n",
       "  '_i8',\n",
       "  '_ih',\n",
       "  '_ii',\n",
       "  '_iii',\n",
       "  '_oh',\n",
       "  'a_sample_class',\n",
       "  'exit',\n",
       "  'get_ipython',\n",
       "  'obj',\n",
       "  'open',\n",
       "  'quit'],\n",
       " '__': '',\n",
       " '___': '',\n",
       " '__session__': 'C:\\\\Users\\\\jagz0\\\\Documents\\\\csci_1070_course_materials\\\\alex_csci_1070\\\\Untitled.ipynb',\n",
       " '_i': '#dir = directory of names in a current, local scope\\ndir()',\n",
       " '_ii': 'help (obj)',\n",
       " '_iii': 'class a_sample_class:\\n    class_attr = 5\\n\\n    def __init__(self, one, two):\\n        #instance attribute\\n        self.first = one\\n        self.second = two\\n\\n#object is instance of class\\nobj = a_sample_class(17,42)\\n\\n#instance attribute as property of object\\nprint(obj.first)\\n\\n#class attribute as property of object\\nprint(obj.class_attr)\\n\\n#instance attribute as property of class\\n#print(a_sample_class.first)\\n\\n#class attribute as property of class\\nprint(a_sample_class.class_attr)',\n",
       " '_i1': 'class a_sample_class:\\n    #default/basic constructor\\n    def__init__(self):\\n    self.var = 0\\n\\n    #an instance method for printing\\n    def print_vars(self):\\n        print(self.var)\\n\\n#create instance of class\\nobj = a_sample_class()\\n\\n#call instance method to get value for var\\nobj.print_vars()',\n",
       " '_i2': 'class a_sample_class:\\n    #default/basic constructor\\n    def__init__(self)\\n    self.var = 0\\n\\n    #an instance method for printing\\n    def print_vars(self):\\n        print(self.var)\\n\\n#create instance of class\\nobj = a_sample_class()\\n\\n#call instance method to get value for var\\nobj.print_vars()',\n",
       " '_i3': 'class a_sample_class:\\n    #default/basic constructor\\n    def __init__(self):\\n    self.var = 0\\n\\n    #an instance method for printing\\n    def print_vars(self):\\n        print(self.var)\\n\\n#create instance of class\\nobj = a_sample_class()\\n\\n#call instance method to get value for var\\nobj.print_vars()',\n",
       " '_i4': 'class a_sample_class:\\n    #default/basic constructor\\n    def __init__(self):\\n        self.var = 0\\n\\n    #an instance method for printing\\n    def print_vars(self):\\n        print(self.var)\\n\\n#create instance of class\\nobj = a_sample_class()\\n\\n#call instance method to get value for var\\nobj.print_vars()',\n",
       " 'a_sample_class': __main__.a_sample_class,\n",
       " 'obj': <__main__.a_sample_class at 0x1d16605d3a0>,\n",
       " '_i5': 'class a_sample_class:\\n    class_attr = 5\\n\\n    def __init__(self, one, two):\\n        #instance attribute\\n        self.first = one\\n        self.second = two\\n\\n#object is instance of class\\nobj = a_sample_class(17,42)\\n\\n#instance attribute as property of object\\nprint(obj.first)\\n\\n#class attribute as property of object\\nprint(obj.class_attr)\\n\\n#instance attribute as property of class\\nprint(a_sample_class.first)\\n\\n#class attribute as property of class\\nprint(a_sample_class.class_attr)',\n",
       " '_i6': 'class a_sample_class:\\n    class_attr = 5\\n\\n    def __init__(self, one, two):\\n        #instance attribute\\n        self.first = one\\n        self.second = two\\n\\n#object is instance of class\\nobj = a_sample_class(17,42)\\n\\n#instance attribute as property of object\\nprint(obj.first)\\n\\n#class attribute as property of object\\nprint(obj.class_attr)\\n\\n#instance attribute as property of class\\n#print(a_sample_class.first)\\n\\n#class attribute as property of class\\nprint(a_sample_class.class_attr)',\n",
       " '_i7': 'help (obj)',\n",
       " '_i8': '#dir = directory of names in a current, local scope\\ndir()',\n",
       " '_8': ['In',\n",
       "  'Out',\n",
       "  '_',\n",
       "  '__',\n",
       "  '___',\n",
       "  '__builtin__',\n",
       "  '__builtins__',\n",
       "  '__doc__',\n",
       "  '__loader__',\n",
       "  '__name__',\n",
       "  '__package__',\n",
       "  '__session__',\n",
       "  '__spec__',\n",
       "  '_dh',\n",
       "  '_i',\n",
       "  '_i1',\n",
       "  '_i2',\n",
       "  '_i3',\n",
       "  '_i4',\n",
       "  '_i5',\n",
       "  '_i6',\n",
       "  '_i7',\n",
       "  '_i8',\n",
       "  '_ih',\n",
       "  '_ii',\n",
       "  '_iii',\n",
       "  '_oh',\n",
       "  'a_sample_class',\n",
       "  'exit',\n",
       "  'get_ipython',\n",
       "  'obj',\n",
       "  'open',\n",
       "  'quit'],\n",
       " '_i9': 'globals()'}"
      ]
     },
     "execution_count": 9,
     "metadata": {},
     "output_type": "execute_result"
    }
   ],
   "source": [
    "# returning the current module namespace\n",
    "# namespace = mapping between objects and current names. These are the defined names,\n",
    "# and they also include information about the objects each name references.\n",
    "globals()"
   ]
  },
  {
   "cell_type": "markdown",
   "id": "890afc2a-3f08-4de4-bcba-2d40eaaf38b4",
   "metadata": {},
   "source": [
    "# Instance, Class, and Static Methods"
   ]
  },
  {
   "cell_type": "code",
   "execution_count": 16,
   "id": "04558c90-9ebd-4443-b424-0e1315f65d66",
   "metadata": {},
   "outputs": [],
   "source": [
    "class Candy:\n",
    "    #variables that start with a single underscore are reserved for internal purposes\n",
    "    def _init__(self, _brand, \n",
    "                _is_caramel=False, \n",
    "                _is_chocolate=False, \n",
    "                _is_vegan=False,\n",
    "                _has_nuts=False,\n",
    "                _type='chocolate',\n",
    "                _calories=200):\n",
    "        self.brand = _brand\n",
    "        self.is_caramel = _is_caramel\n",
    "        self.is_chocolate = _is_chocolate\n",
    "        self.is_vegan = _is_vegan\n",
    "        self.has_nuts = _has_nuts\n",
    "        self.calories = _calories\n",
    "        self.type = _type\n",
    "\n",
    "    #class method - used to modify the state of the class (for all instances)\n",
    "    @classmethod\n",
    "    def snickers(cls):\n",
    "        return cls('Mars', _is_caramel=True, _is_chocolate=True, _has_nuts=True, _type='Snickers')\n",
    "    \n",
    "    #instance method -- can access and modify both the class and instance state \n",
    "    #printing is accessing state\n",
    "    def display(self): \n",
    "        print(f'My favorite candy is {self.brand} {self.type}')\n",
    "\n",
    "    #static method -- used for comparison or validation\n",
    "    #commonly used in data for checking if data meets particular conditions\n",
    "    #if you want to check the value without needing an instance of it\n",
    "    @staticmethod\n",
    "    def calories (size, n)\n",
    "    "
   ]
  },
  {
   "cell_type": "code",
   "execution_count": 15,
   "id": "8f350737-0a1c-40c6-8f96-ad97ce0607b5",
   "metadata": {},
   "outputs": [
    {
     "ename": "TypeError",
     "evalue": "Candy() takes no arguments",
     "output_type": "error",
     "traceback": [
      "\u001b[1;31m---------------------------------------------------------------------------\u001b[0m",
      "\u001b[1;31mTypeError\u001b[0m                                 Traceback (most recent call last)",
      "Cell \u001b[1;32mIn[15], line 1\u001b[0m\n\u001b[1;32m----> 1\u001b[0m snickers_bar \u001b[38;5;241m=\u001b[39m \u001b[43mCandy\u001b[49m\u001b[38;5;241;43m.\u001b[39;49m\u001b[43msnickers\u001b[49m\u001b[43m(\u001b[49m\u001b[43m)\u001b[49m\n\u001b[0;32m      2\u001b[0m snickers_bar\u001b[38;5;241m.\u001b[39mdisplay()\n",
      "Cell \u001b[1;32mIn[14], line 21\u001b[0m, in \u001b[0;36mCandy.snickers\u001b[1;34m(cls)\u001b[0m\n\u001b[0;32m     19\u001b[0m \u001b[38;5;129m@classmethod\u001b[39m\n\u001b[0;32m     20\u001b[0m \u001b[38;5;28;01mdef\u001b[39;00m \u001b[38;5;21msnickers\u001b[39m(\u001b[38;5;28mcls\u001b[39m):\n\u001b[1;32m---> 21\u001b[0m     \u001b[38;5;28;01mreturn\u001b[39;00m \u001b[38;5;28;43mcls\u001b[39;49m\u001b[43m(\u001b[49m\u001b[38;5;124;43m'\u001b[39;49m\u001b[38;5;124;43mMars\u001b[39;49m\u001b[38;5;124;43m'\u001b[39;49m\u001b[43m,\u001b[49m\u001b[43m \u001b[49m\u001b[43m_is_caramel\u001b[49m\u001b[38;5;241;43m=\u001b[39;49m\u001b[38;5;28;43;01mTrue\u001b[39;49;00m\u001b[43m,\u001b[49m\u001b[43m \u001b[49m\u001b[43m_is_chocolate\u001b[49m\u001b[38;5;241;43m=\u001b[39;49m\u001b[38;5;28;43;01mTrue\u001b[39;49;00m\u001b[43m,\u001b[49m\u001b[43m \u001b[49m\u001b[43m_has_nuts\u001b[49m\u001b[38;5;241;43m=\u001b[39;49m\u001b[38;5;28;43;01mTrue\u001b[39;49;00m\u001b[43m,\u001b[49m\u001b[43m \u001b[49m\u001b[43m_type\u001b[49m\u001b[38;5;241;43m=\u001b[39;49m\u001b[38;5;124;43m'\u001b[39;49m\u001b[38;5;124;43mSnickers\u001b[39;49m\u001b[38;5;124;43m'\u001b[39;49m\u001b[43m)\u001b[49m\n",
      "\u001b[1;31mTypeError\u001b[0m: Candy() takes no arguments"
     ]
    }
   ],
   "source": [
    "snickers_bar = Candy.snickers()\n",
    "snickers_bar.display()"
   ]
  },
  {
   "cell_type": "code",
   "execution_count": null,
   "id": "b4debf40-611a-429f-8e98-1ee075d2ce82",
   "metadata": {},
   "outputs": [],
   "source": [
    "Candy.calories('funsized',50)"
   ]
  },
  {
   "cell_type": "code",
   "execution_count": 17,
   "id": "e7e2847b-1050-4199-b773-fe61c374a8ac",
   "metadata": {},
   "outputs": [
    {
     "name": "stdout",
     "output_type": "stream",
     "text": [
      "decorator is running\n",
      "Hello there!\n",
      "still running\n"
     ]
    }
   ],
   "source": [
    "def the_decorator(func):\n",
    "    print(\"decorator is running\")\n",
    "    func()\n",
    "    print(\"still running\")\n",
    "\n",
    "def oh_hi():\n",
    "    print(\"Hello there!\")\n",
    "\n",
    "hello = the_decorator(oh_hi)"
   ]
  },
  {
   "cell_type": "code",
   "execution_count": null,
   "id": "cd80a749-addf-4973-9270-767ad07323db",
   "metadata": {},
   "outputs": [],
   "source": [
    "#Principles of OOP\n",
    "\n",
    "#Encapsulation - the implementation details are hidden or encapsulated in objects\n",
    "\n",
    "#Inheritance - child classes can inherit from parent classes and modules\n",
    "\n",
    "#Polymorphism - objects and names exist in many forms. So, the same attribute or method can exist in multiple classes and mean different things, etc.\n",
    "\n",
    "#Abstraction - handling a concept rather than the implementation details"
   ]
  },
  {
   "cell_type": "markdown",
   "id": "920b89d2-6289-489e-873d-6bf759a0c3f9",
   "metadata": {},
   "source": [
    "NumPy \n",
    "1. Array\n",
    "2. Array Shaping and Transportation\n",
    "3. Array Math\n",
    "4. Array Indexing and Slicing\n",
    "5. Array Broadcasting\n",
    "\n",
    "NumPy is all about arrays"
   ]
  },
  {
   "cell_type": "markdown",
   "id": "c2c222cf-3bad-4598-b976-313822b6fbb3",
   "metadata": {},
   "source": [
    "Arrays\n",
    "#Structured Lists of Numbers\n",
    ">Vectors\n",
    ">Matrices\n",
    ">Images\n",
    ">Tensors\n",
    ">ConvNets"
   ]
  },
  {
   "cell_type": "code",
   "execution_count": 1,
   "id": "e2be3102-5cea-4c6b-abf9-bda51dd312d5",
   "metadata": {},
   "outputs": [
    {
     "name": "stdout",
     "output_type": "stream",
     "text": [
      "2 (2, 3) float32\n"
     ]
    }
   ],
   "source": [
    "import numpy as np\n",
    "a = np.array([[1,2,3],[4,5,6]],dtype=np.float32)\n",
    "print (a.ndim, a.shape, a.dtype)"
   ]
  },
  {
   "cell_type": "markdown",
   "id": "e77033b9-e22b-4f7b-93f7-aa1d74932703",
   "metadata": {},
   "source": [
    "1. Arrays can have any number of dimensions, including a zero (a scalar).\n",
    "2. Arrays are typed: np.unit8, np.int64, np.float32, np.float64\n",
    "3. Arrays are dense. Each element of the array exists and has the same type.\n",
    "4. Arrays are faster than python lists (consume less memory)\n",
    "5. Can only combine arrays of the same shape!"
   ]
  },
  {
   "cell_type": "code",
   "execution_count": 8,
   "id": "f0cc0c69-f7e8-4160-8ed8-ed8b1227ffa7",
   "metadata": {},
   "outputs": [
    {
     "data": {
      "text/plain": [
       "array([[[1., 2., 3.],\n",
       "        [4., 5., 6.]],\n",
       "\n",
       "       [[7., 8., 9.],\n",
       "        [7., 8., 9.]]], dtype=float32)"
      ]
     },
     "execution_count": 8,
     "metadata": {},
     "output_type": "execute_result"
    }
   ],
   "source": [
    "#1\n",
    "b = np.array([[[1,2,3],[4,5,6]],[[7,8,9],[7,8,9]]],dtype=np.float32)\n",
    "b.ndim\n",
    "b"
   ]
  },
  {
   "cell_type": "code",
   "execution_count": 10,
   "id": "7807b3c5-77fe-4475-aa96-cebc3418ef1f",
   "metadata": {},
   "outputs": [
    {
     "data": {
      "text/plain": [
       "array([[[[[[1, 2, 3],\n",
       "           [4, 5, 6]],\n",
       "\n",
       "          [[7, 8, 9],\n",
       "           [7, 8, 9]]]]]])"
      ]
     },
     "execution_count": 10,
     "metadata": {},
     "output_type": "execute_result"
    }
   ],
   "source": [
    "#2\n",
    "c = np.array([[[1,2,3],[4,5,6]],[[7,8,9],[7,8,9]]], ndmin=6)\n",
    "c"
   ]
  },
  {
   "cell_type": "code",
   "execution_count": 11,
   "id": "98581314-47e4-4d84-8e46-b4089393550f",
   "metadata": {},
   "outputs": [
    {
     "data": {
      "text/plain": [
       "array([[1., 1.],\n",
       "       [1., 1.],\n",
       "       [1., 1.]])"
      ]
     },
     "execution_count": 11,
     "metadata": {},
     "output_type": "execute_result"
    }
   ],
   "source": [
    "#3\n",
    "\n",
    "np.ones((3,2))"
   ]
  },
  {
   "cell_type": "code",
   "execution_count": 16,
   "id": "2cd75fd6-0ffe-4a47-a05d-a10b6c8d53cd",
   "metadata": {},
   "outputs": [
    {
     "data": {
      "text/plain": [
       "array([1, 2, 3, 4, 5, 6])"
      ]
     },
     "execution_count": 16,
     "metadata": {},
     "output_type": "execute_result"
    }
   ],
   "source": [
    "a = np.array ([1,2,3,4,5,6])\n",
    "a"
   ]
  },
  {
   "cell_type": "code",
   "execution_count": 13,
   "id": "90486e3e-359d-48a4-acd4-2e42f38375d2",
   "metadata": {},
   "outputs": [
    {
     "data": {
      "text/plain": [
       "array([[1, 2],\n",
       "       [3, 4],\n",
       "       [5, 6]])"
      ]
     },
     "execution_count": 13,
     "metadata": {},
     "output_type": "execute_result"
    }
   ],
   "source": [
    "a = a.reshape (3,2)\n",
    "a"
   ]
  },
  {
   "cell_type": "code",
   "execution_count": 15,
   "id": "97b57a70-ce57-428a-b2aa-55f09675cefc",
   "metadata": {},
   "outputs": [
    {
     "data": {
      "text/plain": [
       "array([[1, 2, 3],\n",
       "       [4, 5, 6]])"
      ]
     },
     "execution_count": 15,
     "metadata": {},
     "output_type": "execute_result"
    }
   ],
   "source": [
    "a = a.reshape (2,-1)\n",
    "a"
   ]
  },
  {
   "cell_type": "code",
   "execution_count": 17,
   "id": "126a7de1-775f-4a98-a0f4-41cacbb04874",
   "metadata": {},
   "outputs": [
    {
     "data": {
      "text/plain": [
       "array([1, 2, 3, 4, 5, 6])"
      ]
     },
     "execution_count": 17,
     "metadata": {},
     "output_type": "execute_result"
    }
   ],
   "source": [
    "a = a.ravel()\n",
    "a"
   ]
  },
  {
   "cell_type": "code",
   "execution_count": 21,
   "id": "188d1771-e0be-433b-9d6b-262a01032ad8",
   "metadata": {},
   "outputs": [
    {
     "data": {
      "text/plain": [
       "array([[0, 1],\n",
       "       [2, 3],\n",
       "       [4, 5],\n",
       "       [6, 7],\n",
       "       [8, 9]])"
      ]
     },
     "execution_count": 21,
     "metadata": {},
     "output_type": "execute_result"
    }
   ],
   "source": [
    "b = np.arange(10).reshape (5,2)\n",
    "b"
   ]
  },
  {
   "cell_type": "code",
   "execution_count": 22,
   "id": "9588cd8d-a6cf-4c02-a3fd-2a8230e9ea3b",
   "metadata": {},
   "outputs": [
    {
     "data": {
      "text/plain": [
       "array([[0, 2, 4, 6, 8],\n",
       "       [1, 3, 5, 7, 9]])"
      ]
     },
     "execution_count": 22,
     "metadata": {},
     "output_type": "execute_result"
    }
   ],
   "source": [
    "b = b.T\n",
    "b"
   ]
  },
  {
   "cell_type": "code",
   "execution_count": null,
   "id": "067c3467-75f7-46f8-99c0-39cd2e280fff",
   "metadata": {},
   "outputs": [],
   "source": [
    "b = b.transpose ("
   ]
  },
  {
   "cell_type": "code",
   "execution_count": 23,
   "id": "1588306a-7934-42c4-a20b-74e9a79592a1",
   "metadata": {},
   "outputs": [
    {
     "data": {
      "text/plain": [
       "array([[0.        , 1.41421356, 2.        , 2.44948974, 2.82842712],\n",
       "       [1.        , 1.73205081, 2.23606798, 2.64575131, 3.        ]])"
      ]
     },
     "execution_count": 23,
     "metadata": {},
     "output_type": "execute_result"
    }
   ],
   "source": [
    "np.sqrt(b)"
   ]
  },
  {
   "cell_type": "code",
   "execution_count": null,
   "id": "dae5ed9a-4aeb-4dc9-9573-3ace356a51c6",
   "metadata": {},
   "outputs": [],
   "source": []
  }
 ],
 "metadata": {
  "kernelspec": {
   "display_name": "Python 3 (ipykernel)",
   "language": "python",
   "name": "python3"
  },
  "language_info": {
   "codemirror_mode": {
    "name": "ipython",
    "version": 3
   },
   "file_extension": ".py",
   "mimetype": "text/x-python",
   "name": "python",
   "nbconvert_exporter": "python",
   "pygments_lexer": "ipython3",
   "version": "3.9.9"
  }
 },
 "nbformat": 4,
 "nbformat_minor": 5
}
